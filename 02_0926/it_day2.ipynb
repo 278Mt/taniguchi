{
 "cells": [
  {
   "cell_type": "markdown",
   "metadata": {},
   "source": [
    "応用情報工学演習（谷口研）"
   ]
  },
  {
   "cell_type": "markdown",
   "metadata": {
    "toc": true
   },
   "source": [
    "<h1>Table of Contents<span class=\"tocSkip\"></span></h1>\n",
    "<div class=\"toc\"><ul class=\"toc-item\"><li><span><a href=\"#OpenCVの動作確認\" data-toc-modified-id=\"OpenCVの動作確認-1\"><span class=\"toc-item-num\">1&nbsp;&nbsp;</span>OpenCVの動作確認</a></span></li><li><span><a href=\"#Python\" data-toc-modified-id=\"Python-2\"><span class=\"toc-item-num\">2&nbsp;&nbsp;</span>Python</a></span><ul class=\"toc-item\"><li><span><a href=\"#Pythonバージョン\" data-toc-modified-id=\"Pythonバージョン-2.1\"><span class=\"toc-item-num\">2.1&nbsp;&nbsp;</span>Pythonバージョン</a></span></li><li><span><a href=\"#Pythonバージョン\" data-toc-modified-id=\"Pythonバージョン-2.2\"><span class=\"toc-item-num\">2.2&nbsp;&nbsp;</span>Pythonバージョン</a></span></li><li><span><a href=\"#基本データ型\" data-toc-modified-id=\"基本データ型-2.3\"><span class=\"toc-item-num\">2.3&nbsp;&nbsp;</span>基本データ型</a></span></li><li><span><a href=\"#数値型\" data-toc-modified-id=\"数値型-2.4\"><span class=\"toc-item-num\">2.4&nbsp;&nbsp;</span>数値型</a></span></li><li><span><a href=\"#ブール型\" data-toc-modified-id=\"ブール型-2.5\"><span class=\"toc-item-num\">2.5&nbsp;&nbsp;</span>ブール型</a></span></li><li><span><a href=\"#文字列型\" data-toc-modified-id=\"文字列型-2.6\"><span class=\"toc-item-num\">2.6&nbsp;&nbsp;</span>文字列型</a></span></li><li><span><a href=\"#コンテナ\" data-toc-modified-id=\"コンテナ-2.7\"><span class=\"toc-item-num\">2.7&nbsp;&nbsp;</span>コンテナ</a></span><ul class=\"toc-item\"><li><span><a href=\"#リスト型\" data-toc-modified-id=\"リスト型-2.7.1\"><span class=\"toc-item-num\">2.7.1&nbsp;&nbsp;</span>リスト型</a></span><ul class=\"toc-item\"><li><span><a href=\"#スライス表記\" data-toc-modified-id=\"スライス表記-2.7.1.1\"><span class=\"toc-item-num\">2.7.1.1&nbsp;&nbsp;</span>スライス表記</a></span></li><li><span><a href=\"#ループ\" data-toc-modified-id=\"ループ-2.7.1.2\"><span class=\"toc-item-num\">2.7.1.2&nbsp;&nbsp;</span>ループ</a></span></li><li><span><a href=\"#リスト内包表記-(List-comprehensions)\" data-toc-modified-id=\"リスト内包表記-(List-comprehensions)-2.7.1.3\"><span class=\"toc-item-num\">2.7.1.3&nbsp;&nbsp;</span>リスト内包表記 (List comprehensions)</a></span></li></ul></li><li><span><a href=\"#辞書型-(dictionaries)\" data-toc-modified-id=\"辞書型-(dictionaries)-2.7.2\"><span class=\"toc-item-num\">2.7.2&nbsp;&nbsp;</span>辞書型 (dictionaries)</a></span><ul class=\"toc-item\"><li><span><a href=\"#ループ\" data-toc-modified-id=\"ループ-2.7.2.1\"><span class=\"toc-item-num\">2.7.2.1&nbsp;&nbsp;</span>ループ</a></span></li><li><span><a href=\"#辞書内包表記-(Dictionary-comprehensions)\" data-toc-modified-id=\"辞書内包表記-(Dictionary-comprehensions)-2.7.2.2\"><span class=\"toc-item-num\">2.7.2.2&nbsp;&nbsp;</span>辞書内包表記 (Dictionary comprehensions)</a></span></li></ul></li><li><span><a href=\"#集合型-(Sets)\" data-toc-modified-id=\"集合型-(Sets)-2.7.3\"><span class=\"toc-item-num\">2.7.3&nbsp;&nbsp;</span>集合型 (Sets)</a></span><ul class=\"toc-item\"><li><span><a href=\"#ループ\" data-toc-modified-id=\"ループ-2.7.3.1\"><span class=\"toc-item-num\">2.7.3.1&nbsp;&nbsp;</span>ループ</a></span></li><li><span><a href=\"#集合内包表記-(Set-comprehensions)\" data-toc-modified-id=\"集合内包表記-(Set-comprehensions)-2.7.3.2\"><span class=\"toc-item-num\">2.7.3.2&nbsp;&nbsp;</span>集合内包表記 (Set comprehensions)</a></span></li></ul></li><li><span><a href=\"#タプル-(tuples)\" data-toc-modified-id=\"タプル-(tuples)-2.7.4\"><span class=\"toc-item-num\">2.7.4&nbsp;&nbsp;</span>タプル (tuples)</a></span></li></ul></li><li><span><a href=\"#関数-(Functions)\" data-toc-modified-id=\"関数-(Functions)-2.8\"><span class=\"toc-item-num\">2.8&nbsp;&nbsp;</span>関数 (Functions)</a></span></li><li><span><a href=\"#クラス-(Class)\" data-toc-modified-id=\"クラス-(Class)-2.9\"><span class=\"toc-item-num\">2.9&nbsp;&nbsp;</span>クラス (Class)</a></span></li><li><span><a href=\"#＜課題＞Minesweeper\" data-toc-modified-id=\"＜課題＞Minesweeper-2.10\"><span class=\"toc-item-num\">2.10&nbsp;&nbsp;</span>＜課題＞Minesweeper</a></span></li></ul></li><li><span><a href=\"#Numpy\" data-toc-modified-id=\"Numpy-3\"><span class=\"toc-item-num\">3&nbsp;&nbsp;</span>Numpy</a></span><ul class=\"toc-item\"><li><span><a href=\"#配列-(Array)\" data-toc-modified-id=\"配列-(Array)-3.1\"><span class=\"toc-item-num\">3.1&nbsp;&nbsp;</span>配列 (Array)</a></span></li><li><span><a href=\"#配列(Array)のインデキシング\" data-toc-modified-id=\"配列(Array)のインデキシング-3.2\"><span class=\"toc-item-num\">3.2&nbsp;&nbsp;</span>配列(Array)のインデキシング</a></span><ul class=\"toc-item\"><li><span><a href=\"#スライシング\" data-toc-modified-id=\"スライシング-3.2.1\"><span class=\"toc-item-num\">3.2.1&nbsp;&nbsp;</span>スライシング</a></span></li><li><span><a href=\"#整数配列によるインデキシング\" data-toc-modified-id=\"整数配列によるインデキシング-3.2.2\"><span class=\"toc-item-num\">3.2.2&nbsp;&nbsp;</span>整数配列によるインデキシング</a></span></li><li><span><a href=\"#ブール値配列によるインデキシング\" data-toc-modified-id=\"ブール値配列によるインデキシング-3.2.3\"><span class=\"toc-item-num\">3.2.3&nbsp;&nbsp;</span>ブール値配列によるインデキシング</a></span></li></ul></li><li><span><a href=\"#データ型\" data-toc-modified-id=\"データ型-3.3\"><span class=\"toc-item-num\">3.3&nbsp;&nbsp;</span>データ型</a></span></li><li><span><a href=\"#配列演算\" data-toc-modified-id=\"配列演算-3.4\"><span class=\"toc-item-num\">3.4&nbsp;&nbsp;</span>配列演算</a></span></li><li><span><a href=\"#ブロードキャスト-(Broadcasting)\" data-toc-modified-id=\"ブロードキャスト-(Broadcasting)-3.5\"><span class=\"toc-item-num\">3.5&nbsp;&nbsp;</span>ブロードキャスト (Broadcasting)</a></span></li><li><span><a href=\"#Numpy-ドキュメント\" data-toc-modified-id=\"Numpy-ドキュメント-3.6\"><span class=\"toc-item-num\">3.6&nbsp;&nbsp;</span>Numpy ドキュメント</a></span></li></ul></li><li><span><a href=\"#Matplotlib\" data-toc-modified-id=\"Matplotlib-4\"><span class=\"toc-item-num\">4&nbsp;&nbsp;</span>Matplotlib</a></span><ul class=\"toc-item\"><li><span><a href=\"#Plotting\" data-toc-modified-id=\"Plotting-4.1\"><span class=\"toc-item-num\">4.1&nbsp;&nbsp;</span>Plotting</a></span></li><li><span><a href=\"#Subplots\" data-toc-modified-id=\"Subplots-4.2\"><span class=\"toc-item-num\">4.2&nbsp;&nbsp;</span>Subplots</a></span></li></ul></li><li><span><a href=\"#OpenCV\" data-toc-modified-id=\"OpenCV-5\"><span class=\"toc-item-num\">5&nbsp;&nbsp;</span>OpenCV</a></span><ul class=\"toc-item\"><li><span><a href=\"#画像の入力と表示\" data-toc-modified-id=\"画像の入力と表示-5.1\"><span class=\"toc-item-num\">5.1&nbsp;&nbsp;</span>画像の入力と表示</a></span></li><li><span><a href=\"#画像変換\" data-toc-modified-id=\"画像変換-5.2\"><span class=\"toc-item-num\">5.2&nbsp;&nbsp;</span>画像変換</a></span><ul class=\"toc-item\"><li><span><a href=\"#濃淡変換\" data-toc-modified-id=\"濃淡変換-5.2.1\"><span class=\"toc-item-num\">5.2.1&nbsp;&nbsp;</span>濃淡変換</a></span></li><li><span><a href=\"#リサイズ\" data-toc-modified-id=\"リサイズ-5.2.2\"><span class=\"toc-item-num\">5.2.2&nbsp;&nbsp;</span>リサイズ</a></span></li></ul></li></ul></li><li><span><a href=\"#＜練習問題＞\" data-toc-modified-id=\"＜練習問題＞-6\"><span class=\"toc-item-num\">6&nbsp;&nbsp;</span>＜練習問題＞</a></span></li></ul></div>"
   ]
  },
  {
   "cell_type": "markdown",
   "metadata": {},
   "source": [
    "# 準備\n",
    "## OpenCVの動作確認"
   ]
  },
  {
   "cell_type": "code",
   "execution_count": 1,
   "metadata": {},
   "outputs": [],
   "source": [
    "import cv2"
   ]
  },
  {
   "cell_type": "markdown",
   "metadata": {},
   "source": [
    "エラーが出ないことを確認．エラーが出た場合はOpenCVのインストールに失敗している．\n",
    "\n",
    "OpenCVのコンパイル方法によっては，動画読み込みの機能が無効になっている場合がある．動画読み込みが有効か確認するために，まず動画ファイルをダウンロードする．"
   ]
  },
  {
   "cell_type": "code",
   "execution_count": 2,
   "metadata": {},
   "outputs": [
    {
     "name": "stdout",
     "output_type": "stream",
     "text": [
      "file downloading... done\n"
     ]
    }
   ],
   "source": [
    "\"\"\" サンプル動画のダウンロード\"\"\"\n",
    "import urllib.request\n",
    "print(\"file downloading...\", end=\" \")\n",
    "#urllib.request.urlretrieve(\"http://www.sample-videos.com/video/mp4/480/big_buck_bunny_480p_1mb.mp4\",\"big_buck_bunny_480p_1mb.mp4\")\n",
    "urllib.request.urlretrieve(\"https://www.sample-videos.com/video123/mp4/240/big_buck_bunny_240p_1mb.mp4\", \"big_buck_bunny_240p_1mb.mp4\")\n",
    "print(\"done\")"
   ]
  },
  {
   "cell_type": "markdown",
   "metadata": {},
   "source": [
    "動画ファイルを開くことができるか，動画から先頭の画像を読み込めるか確認する．"
   ]
  },
  {
   "cell_type": "code",
   "execution_count": 3,
   "metadata": {
    "scrolled": true
   },
   "outputs": [
    {
     "data": {
      "text/plain": [
       "True"
      ]
     },
     "execution_count": 3,
     "metadata": {},
     "output_type": "execute_result"
    }
   ],
   "source": [
    "cap = cv2.VideoCapture('big_buck_bunny_240p_1mb.mp4')\n",
    "cap.isOpened()"
   ]
  },
  {
   "cell_type": "markdown",
   "metadata": {},
   "source": [
    "Trueと表示されればOK．"
   ]
  },
  {
   "cell_type": "code",
   "execution_count": 4,
   "metadata": {},
   "outputs": [
    {
     "name": "stdout",
     "output_type": "stream",
     "text": [
      "True\n"
     ]
    },
    {
     "data": {
      "image/png": "[encoded data removed]",
      "text/plain": [
       "<Figure size 432x288 with 1 Axes>"
      ]
     },
     "metadata": {
      "needs_background": "light"
     },
     "output_type": "display_data"
    }
   ],
   "source": [
    "from matplotlib.pyplot import *\n",
    "%matplotlib inline\n",
    "\n",
    "ret, im = cap.read()\n",
    "print(ret)\n",
    "im = cv2.cvtColor(im, cv2.COLOR_BGR2RGB)\n",
    "imshow(im)\n",
    "cap.release()"
   ]
  },
  {
   "cell_type": "markdown",
   "metadata": {},
   "source": [
    "画像が表示されればOK!"
   ]
  },
  {
   "cell_type": "markdown",
   "metadata": {},
   "source": [
    "# Python numpy チュートリアル"
   ]
  },
  {
   "cell_type": "markdown",
   "metadata": {},
   "source": [
    "このチュートリアルは[Python Numpy Tutorial](http://cs231n.github.io/python-numpy-tutorial/)を参考にして作成したものです．\n",
    "\n",
    "Pythonは，汎用プログラミング言語の一つであり，科学技術計算用の強力なライブラリ(numpy, scipy, matplotlib)を有するという特徴があります．\n",
    "\n",
    "[Python tutorial](https://docs.python.jp/3/tutorial/)に目を通しておくことを勧めます．"
   ]
  },
  {
   "cell_type": "markdown",
   "metadata": {},
   "source": [
    "## Python\n",
    "\n",
    "Pythonは高水準，動的型付け可能なプログラミング言語です．Pythonは疑似コードのようであると言われることがあります．強力なアイデアを，短く分かり易く表現することができます．以下はクイックソートアルゴリズムのPythonによる実装です．"
   ]
  },
  {
   "cell_type": "code",
   "execution_count": 5,
   "metadata": {},
   "outputs": [],
   "source": [
    "def quicksort(arr):\n",
    "    if len(arr) <= 1:\n",
    "        return arr\n",
    "    pivot = arr[len(arr) // 2]\n",
    "    left = [x for x in arr if x < pivot]  # pivotより小さな要素のリスト\n",
    "    middle = [x for x in arr if x == pivot]\n",
    "    right = [x for x in arr if x > pivot]\n",
    "    return quicksort(left) + middle + quicksort(right)"
   ]
  },
  {
   "cell_type": "code",
   "execution_count": 7,
   "metadata": {},
   "outputs": [
    {
     "name": "stdout",
     "output_type": "stream",
     "text": [
      "[1, 1, 2, 3, 6, 9, 10]\n"
     ]
    }
   ],
   "source": [
    "print(quicksort([3, 6, 9, 10, 1, 2, 1]))"
   ]
  },
  {
   "cell_type": "markdown",
   "metadata": {},
   "source": [
    "### Pythonバージョン\n",
    "\n",
    "現在，Python 2系とPython 3系の二つのバージョンが広く使われています．Python 3系はPython 2系は互換性がありません．\n",
    "この演習ではPython 3.6を使用します．"
   ]
  },
  {
   "cell_type": "markdown",
   "metadata": {},
   "source": [
    "### 基本データ型\n",
    "\n",
    "他の言語と同様に，Pythonには整数型(integers), 浮動小数点型(floats), ブール型(booleans), 文字列型(strings)があります．"
   ]
  },
  {
   "cell_type": "markdown",
   "metadata": {},
   "source": [
    "### 数値型"
   ]
  },
  {
   "cell_type": "code",
   "execution_count": 7,
   "metadata": {
    "scrolled": true
   },
   "outputs": [
    {
     "name": "stdout",
     "output_type": "stream",
     "text": [
      "<class 'int'>\n"
     ]
    }
   ],
   "source": [
    "x = 3\n",
    "print(type(x))"
   ]
  },
  {
   "cell_type": "code",
   "execution_count": 8,
   "metadata": {},
   "outputs": [
    {
     "name": "stdout",
     "output_type": "stream",
     "text": [
      "3\n"
     ]
    }
   ],
   "source": [
    "print(x)"
   ]
  },
  {
   "cell_type": "code",
   "execution_count": 9,
   "metadata": {},
   "outputs": [
    {
     "name": "stdout",
     "output_type": "stream",
     "text": [
      "4\n"
     ]
    }
   ],
   "source": [
    "print(x + 1)"
   ]
  },
  {
   "cell_type": "code",
   "execution_count": 10,
   "metadata": {},
   "outputs": [
    {
     "name": "stdout",
     "output_type": "stream",
     "text": [
      "2\n"
     ]
    }
   ],
   "source": [
    "print(x - 1)"
   ]
  },
  {
   "cell_type": "code",
   "execution_count": 11,
   "metadata": {},
   "outputs": [
    {
     "name": "stdout",
     "output_type": "stream",
     "text": [
      "6\n"
     ]
    }
   ],
   "source": [
    "print(x * 2)"
   ]
  },
  {
   "cell_type": "code",
   "execution_count": 12,
   "metadata": {},
   "outputs": [
    {
     "name": "stdout",
     "output_type": "stream",
     "text": [
      "9\n"
     ]
    }
   ],
   "source": [
    "print(x ** 2)"
   ]
  },
  {
   "cell_type": "code",
   "execution_count": 13,
   "metadata": {},
   "outputs": [
    {
     "name": "stdout",
     "output_type": "stream",
     "text": [
      "4\n"
     ]
    }
   ],
   "source": [
    "x += 1\n",
    "print(x)"
   ]
  },
  {
   "cell_type": "code",
   "execution_count": 14,
   "metadata": {},
   "outputs": [
    {
     "name": "stdout",
     "output_type": "stream",
     "text": [
      "8\n"
     ]
    }
   ],
   "source": [
    "x *= 2\n",
    "print(x)"
   ]
  },
  {
   "cell_type": "code",
   "execution_count": 15,
   "metadata": {},
   "outputs": [
    {
     "name": "stdout",
     "output_type": "stream",
     "text": [
      "<class 'float'>\n"
     ]
    }
   ],
   "source": [
    "y = 2.5\n",
    "print(type(y))"
   ]
  },
  {
   "cell_type": "code",
   "execution_count": 16,
   "metadata": {},
   "outputs": [
    {
     "name": "stdout",
     "output_type": "stream",
     "text": [
      "2.5 3.5 5.0 6.25\n"
     ]
    }
   ],
   "source": [
    "print(y, y + 1, y * 2, y ** 2)"
   ]
  },
  {
   "cell_type": "markdown",
   "metadata": {},
   "source": [
    "他言語とは異なりインクリメント(`x++`)やデクリメント(`x--`)の単項演算子はありません．"
   ]
  },
  {
   "cell_type": "markdown",
   "metadata": {},
   "source": [
    "### ブール型\n",
    "\n",
    "`True`と`False`の二つの値を持ちます．\n",
    "C言語とは異なり，論理演算の記号(`&&`や`||`)の代わりに`and`, `or`を使用します．"
   ]
  },
  {
   "cell_type": "code",
   "execution_count": 17,
   "metadata": {},
   "outputs": [
    {
     "name": "stdout",
     "output_type": "stream",
     "text": [
      "<class 'bool'>\n"
     ]
    }
   ],
   "source": [
    "t = True\n",
    "f = False\n",
    "print(type(t))"
   ]
  },
  {
   "cell_type": "code",
   "execution_count": 18,
   "metadata": {},
   "outputs": [
    {
     "name": "stdout",
     "output_type": "stream",
     "text": [
      "False\n"
     ]
    }
   ],
   "source": [
    "print(t and f)"
   ]
  },
  {
   "cell_type": "code",
   "execution_count": 19,
   "metadata": {},
   "outputs": [
    {
     "name": "stdout",
     "output_type": "stream",
     "text": [
      "True\n"
     ]
    }
   ],
   "source": [
    "print(t or f)"
   ]
  },
  {
   "cell_type": "code",
   "execution_count": 20,
   "metadata": {},
   "outputs": [
    {
     "name": "stdout",
     "output_type": "stream",
     "text": [
      "False\n"
     ]
    }
   ],
   "source": [
    "print(not t)"
   ]
  },
  {
   "cell_type": "code",
   "execution_count": 21,
   "metadata": {},
   "outputs": [
    {
     "name": "stdout",
     "output_type": "stream",
     "text": [
      "True\n"
     ]
    }
   ],
   "source": [
    "print(t != f)"
   ]
  },
  {
   "cell_type": "markdown",
   "metadata": {},
   "source": [
    "### 文字列型\n",
    "\n",
    "文字列操作のための豊富な機能を提供します．"
   ]
  },
  {
   "cell_type": "code",
   "execution_count": 22,
   "metadata": {},
   "outputs": [
    {
     "name": "stdout",
     "output_type": "stream",
     "text": [
      "hello\n"
     ]
    }
   ],
   "source": [
    "hello = 'hello'   # 文字列はシングルクオートで囲ってもよいし\n",
    "world = \"world\"   # ダブルクオートで囲っても良い\n",
    "print(hello)"
   ]
  },
  {
   "cell_type": "markdown",
   "metadata": {},
   "source": [
    "複数行の文字列はダブルクオート３つ，またはシングルクオート３つで囲みます．"
   ]
  },
  {
   "cell_type": "code",
   "execution_count": 23,
   "metadata": {},
   "outputs": [
    {
     "name": "stdout",
     "output_type": "stream",
     "text": [
      "one\n",
      "two\n",
      "three\n",
      "\n"
     ]
    }
   ],
   "source": [
    "foo = \"\"\"one\n",
    "two\n",
    "three\n",
    "\"\"\"\n",
    "print(foo)"
   ]
  },
  {
   "cell_type": "code",
   "execution_count": 24,
   "metadata": {},
   "outputs": [
    {
     "name": "stdout",
     "output_type": "stream",
     "text": [
      "5\n"
     ]
    }
   ],
   "source": [
    "print(len(hello))"
   ]
  },
  {
   "cell_type": "code",
   "execution_count": 25,
   "metadata": {},
   "outputs": [
    {
     "name": "stdout",
     "output_type": "stream",
     "text": [
      "4\n"
     ]
    }
   ],
   "source": [
    "print(len('全角文字'))"
   ]
  },
  {
   "cell_type": "code",
   "execution_count": 26,
   "metadata": {},
   "outputs": [
    {
     "name": "stdout",
     "output_type": "stream",
     "text": [
      "hello world\n"
     ]
    }
   ],
   "source": [
    "hw = hello + ' ' + world\n",
    "print(hw)"
   ]
  },
  {
   "cell_type": "code",
   "execution_count": 27,
   "metadata": {},
   "outputs": [
    {
     "name": "stdout",
     "output_type": "stream",
     "text": [
      "hello world 12\n"
     ]
    }
   ],
   "source": [
    "hw12 = '%s %s %d' % (hello, world, 12) # sprintfスタイルのフォーマット文字列\n",
    "print(hw12)"
   ]
  },
  {
   "cell_type": "code",
   "execution_count": 28,
   "metadata": {},
   "outputs": [
    {
     "name": "stdout",
     "output_type": "stream",
     "text": [
      "Hello\n"
     ]
    }
   ],
   "source": [
    "s = \"hello\"\n",
    "print(s.capitalize())   # 先頭を大文字化"
   ]
  },
  {
   "cell_type": "code",
   "execution_count": 29,
   "metadata": {},
   "outputs": [
    {
     "name": "stdout",
     "output_type": "stream",
     "text": [
      "HELLO\n"
     ]
    }
   ],
   "source": [
    "print(s.upper())"
   ]
  },
  {
   "cell_type": "code",
   "execution_count": 30,
   "metadata": {},
   "outputs": [
    {
     "name": "stdout",
     "output_type": "stream",
     "text": [
      "  hello\n"
     ]
    }
   ],
   "source": [
    "print(s.rjust(7))   # 7文字右揃え"
   ]
  },
  {
   "cell_type": "code",
   "execution_count": 31,
   "metadata": {},
   "outputs": [
    {
     "name": "stdout",
     "output_type": "stream",
     "text": [
      " hello \n"
     ]
    }
   ],
   "source": [
    "print(s.center(7))  # 7文字中央揃え"
   ]
  },
  {
   "cell_type": "code",
   "execution_count": 32,
   "metadata": {},
   "outputs": [
    {
     "name": "stdout",
     "output_type": "stream",
     "text": [
      "he(ell)(ell)o\n"
     ]
    }
   ],
   "source": [
    "print(s.replace('l', '(ell)'))"
   ]
  },
  {
   "cell_type": "code",
   "execution_count": 33,
   "metadata": {},
   "outputs": [
    {
     "name": "stdout",
     "output_type": "stream",
     "text": [
      "world\n"
     ]
    }
   ],
   "source": [
    "print('   world '.strip()) # 先頭，末尾の空白文字を削除"
   ]
  },
  {
   "cell_type": "code",
   "execution_count": 34,
   "metadata": {},
   "outputs": [
    {
     "name": "stdout",
     "output_type": "stream",
     "text": [
      "全角空白\n"
     ]
    }
   ],
   "source": [
    "print('　全角空白　'.strip())  # 全角空白も削除される"
   ]
  },
  {
   "cell_type": "markdown",
   "metadata": {},
   "source": [
    "文字列型の詳細は[ドキュメント](https://docs.python.jp/3/library/stdtypes.html#string-methods)を参照"
   ]
  },
  {
   "cell_type": "markdown",
   "metadata": {},
   "source": [
    "### コンテナ\n",
    "\n",
    "Pythonはコンテナー型 --- リスト型，辞書型，集合型，タプル --- が組み込まれています．"
   ]
  },
  {
   "cell_type": "markdown",
   "metadata": {},
   "source": [
    "#### リスト型\n",
    "\n",
    "C言語の配列に対応するのが，Pythonのリスト型です．配列とは異なり，可変サイズで異なる型を要素に持つことができます．(後で出てくるNumpyの多次元配列とは別物なので注意！）"
   ]
  },
  {
   "cell_type": "code",
   "execution_count": 35,
   "metadata": {},
   "outputs": [
    {
     "name": "stdout",
     "output_type": "stream",
     "text": [
      "[3, 1, 2] 2\n"
     ]
    }
   ],
   "source": [
    "xs = [3, 1, 2]\n",
    "print(xs, xs[2])"
   ]
  },
  {
   "cell_type": "markdown",
   "metadata": {},
   "source": [
    "添字(index)に負の値を指定すると末尾から数えることになります．"
   ]
  },
  {
   "cell_type": "code",
   "execution_count": 36,
   "metadata": {},
   "outputs": [
    {
     "name": "stdout",
     "output_type": "stream",
     "text": [
      "2\n"
     ]
    }
   ],
   "source": [
    "print(xs[-1])  # 最後の要素"
   ]
  },
  {
   "cell_type": "markdown",
   "metadata": {},
   "source": [
    "リスト要素の型は一つに固定する必要はありません（※C言語の配列や，後で出てくるNumpyの配列の場合は，異なる型の要素が混在することはありません．）"
   ]
  },
  {
   "cell_type": "code",
   "execution_count": 37,
   "metadata": {},
   "outputs": [
    {
     "name": "stdout",
     "output_type": "stream",
     "text": [
      "[3, 1, 'foo']\n"
     ]
    }
   ],
   "source": [
    "xs[2] = 'foo'\n",
    "print(xs)"
   ]
  },
  {
   "cell_type": "code",
   "execution_count": 38,
   "metadata": {},
   "outputs": [
    {
     "name": "stdout",
     "output_type": "stream",
     "text": [
      "[3, 1, 'foo', 'bar']\n"
     ]
    }
   ],
   "source": [
    "xs.append('bar')\n",
    "print(xs)"
   ]
  },
  {
   "cell_type": "code",
   "execution_count": 39,
   "metadata": {},
   "outputs": [
    {
     "name": "stdout",
     "output_type": "stream",
     "text": [
      "bar [3, 1, 'foo']\n"
     ]
    }
   ],
   "source": [
    "x = xs.pop()\n",
    "print(x, xs)"
   ]
  },
  {
   "cell_type": "markdown",
   "metadata": {},
   "source": [
    "リストを変数に代入すると参照渡しになることに注意してください．"
   ]
  },
  {
   "cell_type": "code",
   "execution_count": 40,
   "metadata": {},
   "outputs": [
    {
     "name": "stdout",
     "output_type": "stream",
     "text": [
      "[999, 2, 3]\n"
     ]
    }
   ],
   "source": [
    "a = [1, 2, 3]\n",
    "b = a\n",
    "a[0]=999\n",
    "print(b)"
   ]
  },
  {
   "cell_type": "markdown",
   "metadata": {},
   "source": [
    "参照渡しではなくリストのコピーを作成して変数`b`に代入したい場合は`copy()`メソッドで明示的に複製を作成します．"
   ]
  },
  {
   "cell_type": "code",
   "execution_count": 41,
   "metadata": {},
   "outputs": [
    {
     "name": "stdout",
     "output_type": "stream",
     "text": [
      "[1, 2, 3]\n"
     ]
    }
   ],
   "source": [
    "a = [1, 2, 3]\n",
    "b = a.copy() # a[:]でも良い\n",
    "a[0]=999\n",
    "print(b)"
   ]
  },
  {
   "cell_type": "markdown",
   "metadata": {},
   "source": [
    "リストの要素としてリストをとる二重リストを作成することもできます．"
   ]
  },
  {
   "cell_type": "code",
   "execution_count": 42,
   "metadata": {},
   "outputs": [
    {
     "name": "stdout",
     "output_type": "stream",
     "text": [
      "[[1, 2, 3], [4, 5, 6]]\n"
     ]
    }
   ],
   "source": [
    "a = [[1, 2, 3], [4, 5, 6]]\n",
    "print(a)"
   ]
  },
  {
   "cell_type": "code",
   "execution_count": 43,
   "metadata": {},
   "outputs": [
    {
     "name": "stdout",
     "output_type": "stream",
     "text": [
      "1\n",
      "4\n"
     ]
    }
   ],
   "source": [
    "print(a[0][0])   # print 1\n",
    "print(a[1][0])   # print 4"
   ]
  },
  {
   "cell_type": "markdown",
   "metadata": {},
   "source": [
    "注意：Numpyの2次元配列の要素は`a[0,0]`，Pythonの2重リストの要素は`a[0][0]`のように取得します．"
   ]
  },
  {
   "cell_type": "markdown",
   "metadata": {},
   "source": [
    "リスト型で使えるメソッドは[ドキュメント](https://docs.python.jp/3/tutorial/datastructures.html#more-on-lists)を参照．"
   ]
  },
  {
   "cell_type": "markdown",
   "metadata": {},
   "source": [
    "文字列からリストを作成する便利なメソッド`split()`があります．"
   ]
  },
  {
   "cell_type": "code",
   "execution_count": 44,
   "metadata": {},
   "outputs": [
    {
     "data": {
      "text/plain": [
       "['1', '2', '3']"
      ]
     },
     "execution_count": 44,
     "metadata": {},
     "output_type": "execute_result"
    }
   ],
   "source": [
    "\"1 2 3\".split(\" \")"
   ]
  },
  {
   "cell_type": "markdown",
   "metadata": {},
   "source": [
    "##### スライス表記\n",
    "\n",
    "スライシングとよばれる部分リストにアクセスする非常に便利な構文があります．"
   ]
  },
  {
   "cell_type": "code",
   "execution_count": 45,
   "metadata": {},
   "outputs": [
    {
     "name": "stdout",
     "output_type": "stream",
     "text": [
      "[0, 1, 2, 3, 4]\n"
     ]
    }
   ],
   "source": [
    "nums = list(range(5))   # rangeは整数値のリストを生成する組み込み関数\n",
    "print(nums)"
   ]
  },
  {
   "cell_type": "code",
   "execution_count": 46,
   "metadata": {},
   "outputs": [
    {
     "name": "stdout",
     "output_type": "stream",
     "text": [
      "[2, 3]\n"
     ]
    }
   ],
   "source": [
    "print(nums[2:4])"
   ]
  },
  {
   "cell_type": "markdown",
   "metadata": {},
   "source": [
    "`nums[n:m]`は`[nums[n], nums[n+1], ..., nums[m-1]]`と等価です．末尾の要素が`nums[m]`ではなく`nums[m-1]`となることに注意してください．"
   ]
  },
  {
   "cell_type": "code",
   "execution_count": 47,
   "metadata": {},
   "outputs": [
    {
     "name": "stdout",
     "output_type": "stream",
     "text": [
      "[2, 3, 4]\n"
     ]
    }
   ],
   "source": [
    "print(nums[2:])"
   ]
  },
  {
   "cell_type": "code",
   "execution_count": 48,
   "metadata": {},
   "outputs": [
    {
     "name": "stdout",
     "output_type": "stream",
     "text": [
      "[0, 1]\n"
     ]
    }
   ],
   "source": [
    "print(nums[:2])"
   ]
  },
  {
   "cell_type": "code",
   "execution_count": 49,
   "metadata": {},
   "outputs": [
    {
     "name": "stdout",
     "output_type": "stream",
     "text": [
      "[0, 1, 2, 3, 4]\n"
     ]
    }
   ],
   "source": [
    "print(nums[:])"
   ]
  },
  {
   "cell_type": "code",
   "execution_count": 50,
   "metadata": {},
   "outputs": [
    {
     "name": "stdout",
     "output_type": "stream",
     "text": [
      "[0, 1, 2, 3]\n"
     ]
    }
   ],
   "source": [
    "print(nums[:-1])"
   ]
  },
  {
   "cell_type": "markdown",
   "metadata": {},
   "source": [
    "スライスを用いた部分代入も可能です．"
   ]
  },
  {
   "cell_type": "code",
   "execution_count": 51,
   "metadata": {},
   "outputs": [
    {
     "name": "stdout",
     "output_type": "stream",
     "text": [
      "[0, 1, 'A', 'B', 4]\n"
     ]
    }
   ],
   "source": [
    "nums[2:4] = ['A', 'B']\n",
    "print(nums)"
   ]
  },
  {
   "cell_type": "markdown",
   "metadata": {},
   "source": [
    "スライス表記はnumpy配列の操作でも出てきます．"
   ]
  },
  {
   "cell_type": "markdown",
   "metadata": {},
   "source": [
    "##### ループ\n",
    "リスト要素に対する繰り返しは以下のように書けます．"
   ]
  },
  {
   "cell_type": "code",
   "execution_count": 52,
   "metadata": {},
   "outputs": [
    {
     "name": "stdout",
     "output_type": "stream",
     "text": [
      "ネコ\n",
      "イヌ\n",
      "サル\n"
     ]
    }
   ],
   "source": [
    "animals = ['ネコ', 'イヌ', 'サル']\n",
    "for animal in animals:\n",
    "    print(animal)"
   ]
  },
  {
   "cell_type": "code",
   "execution_count": 53,
   "metadata": {},
   "outputs": [
    {
     "name": "stdout",
     "output_type": "stream",
     "text": [
      "#1: ネコ\n",
      "#2: イヌ\n",
      "#3: サル\n"
     ]
    }
   ],
   "source": [
    "animals = ['ネコ', 'イヌ', 'サル']\n",
    "for idx, animal in enumerate(animals):\n",
    "    print('#%d: %s' % (idx + 1, animal))"
   ]
  },
  {
   "cell_type": "markdown",
   "metadata": {},
   "source": [
    "##### リスト内包表記 (List comprehensions)\n",
    "\n",
    "ある型のデータを別のデータ型に変換することがよくあります．\n",
    "数値を二乗するコードは以下のようになります．"
   ]
  },
  {
   "cell_type": "code",
   "execution_count": 54,
   "metadata": {},
   "outputs": [
    {
     "name": "stdout",
     "output_type": "stream",
     "text": [
      "[0, 1, 4, 9, 16]\n"
     ]
    }
   ],
   "source": [
    "nums = [0, 1, 2, 3, 4]\n",
    "squares = []\n",
    "for x in nums:\n",
    "    squares.append(x ** 2)\n",
    "print(squares)"
   ]
  },
  {
   "cell_type": "markdown",
   "metadata": {},
   "source": [
    "リスト内包表記を使うとよりシンプルに書けます．"
   ]
  },
  {
   "cell_type": "code",
   "execution_count": 55,
   "metadata": {
    "scrolled": true
   },
   "outputs": [
    {
     "name": "stdout",
     "output_type": "stream",
     "text": [
      "[0, 1, 4, 9, 16]\n"
     ]
    }
   ],
   "source": [
    "nums = [0, 1, 2, 3, 4]\n",
    "squares = [x ** 2 for x in nums]\n",
    "print(squares) "
   ]
  },
  {
   "cell_type": "markdown",
   "metadata": {},
   "source": [
    "数式 $b_i = a_i^2,\\; i = 1, 2, ..., N$にならった表記です．`for`だけでなく`if`条件式を書くこともできます．"
   ]
  },
  {
   "cell_type": "code",
   "execution_count": 56,
   "metadata": {},
   "outputs": [
    {
     "name": "stdout",
     "output_type": "stream",
     "text": [
      "[0, 4, 16]\n"
     ]
    }
   ],
   "source": [
    "nums = [0, 1, 2, 3, 4]\n",
    "even_squares = [x ** 2 for x in nums if x % 2 == 0]\n",
    "print(even_squares) "
   ]
  },
  {
   "cell_type": "markdown",
   "metadata": {},
   "source": [
    "#### 辞書型 (dictionaries)\n",
    "\n",
    "辞書には（キー，値）の組を保存します．Javaにおける`Map`, Rubyの`Hash`に対応します．"
   ]
  },
  {
   "cell_type": "code",
   "execution_count": 8,
   "metadata": {},
   "outputs": [
    {
     "name": "stdout",
     "output_type": "stream",
     "text": [
      "cute\n"
     ]
    }
   ],
   "source": [
    "d = {'cat': 'cute', 'dog': 'furry'}  # 辞書dを作成\n",
    "print(d['cat'])       # 辞書dからキー'cat'の値を取得"
   ]
  },
  {
   "cell_type": "code",
   "execution_count": 9,
   "metadata": {},
   "outputs": [
    {
     "name": "stdout",
     "output_type": "stream",
     "text": [
      "True\n"
     ]
    }
   ],
   "source": [
    "print('cat' in d)  # 辞書dにキー'cat'が含まれるかチェック"
   ]
  },
  {
   "cell_type": "code",
   "execution_count": 10,
   "metadata": {},
   "outputs": [],
   "source": [
    "d['fish'] = 'wet'"
   ]
  },
  {
   "cell_type": "code",
   "execution_count": 60,
   "metadata": {},
   "outputs": [
    {
     "ename": "KeyError",
     "evalue": "'monkey'",
     "output_type": "error",
     "traceback": [
      "\u001b[1;31m---------------------------------------------------------------------------\u001b[0m",
      "\u001b[1;31mKeyError\u001b[0m                                  Traceback (most recent call last)",
      "\u001b[1;32m<ipython-input-60-7b19da7b1026>\u001b[0m in \u001b[0;36m<module>\u001b[1;34m\u001b[0m\n\u001b[1;32m----> 1\u001b[1;33m \u001b[0mprint\u001b[0m\u001b[1;33m(\u001b[0m\u001b[0md\u001b[0m\u001b[1;33m[\u001b[0m\u001b[1;34m'monkey'\u001b[0m\u001b[1;33m]\u001b[0m\u001b[1;33m)\u001b[0m  \u001b[1;31m# エラー\u001b[0m\u001b[1;33m\u001b[0m\u001b[1;33m\u001b[0m\u001b[0m\n\u001b[0m",
      "\u001b[1;31mKeyError\u001b[0m: 'monkey'"
     ]
    }
   ],
   "source": [
    "print(d['monkey'])  # エラー"
   ]
  },
  {
   "cell_type": "code",
   "execution_count": 11,
   "metadata": {},
   "outputs": [
    {
     "name": "stdout",
     "output_type": "stream",
     "text": [
      "N/A\n"
     ]
    }
   ],
   "source": [
    "print(d.get('monkey', 'N/A'))  # デフォルト付きの要素取得メソッド`get()`: \"N/A\"とprint"
   ]
  },
  {
   "cell_type": "code",
   "execution_count": 12,
   "metadata": {},
   "outputs": [
    {
     "name": "stdout",
     "output_type": "stream",
     "text": [
      "wet\n"
     ]
    }
   ],
   "source": [
    "print(d.get('fish', 'N/A'))   # デフォルト付きの要素取得メソッド`get()`: \"wet\"とprint"
   ]
  },
  {
   "cell_type": "code",
   "execution_count": 13,
   "metadata": {},
   "outputs": [],
   "source": [
    "del d['fish']               # 辞書から要素を削除"
   ]
  },
  {
   "cell_type": "code",
   "execution_count": 14,
   "metadata": {},
   "outputs": [
    {
     "name": "stdout",
     "output_type": "stream",
     "text": [
      "N/A\n"
     ]
    }
   ],
   "source": [
    "print(d.get('fish', 'N/A')) # \"fish\" はキーでなくなったので\"N/A\"とプリント"
   ]
  },
  {
   "cell_type": "markdown",
   "metadata": {},
   "source": [
    "辞書については[ドキュメント](https://docs.python.jp/3/tutorial/datastructures.html#dictionaries)を参照．"
   ]
  },
  {
   "cell_type": "markdown",
   "metadata": {},
   "source": [
    "##### ループ"
   ]
  },
  {
   "cell_type": "code",
   "execution_count": 15,
   "metadata": {},
   "outputs": [
    {
     "name": "stdout",
     "output_type": "stream",
     "text": [
      "A person has 2 legs\n",
      "A cat has 4 legs\n",
      "A spider has 8 legs\n"
     ]
    }
   ],
   "source": [
    "d = {'person': 2, 'cat': 4, 'spider': 8}\n",
    "for animal in d:\n",
    "    legs = d[animal]\n",
    "    print('A %s has %d legs' % (animal, legs))"
   ]
  },
  {
   "cell_type": "markdown",
   "metadata": {},
   "source": [
    "キーと対応する値にアクセスする場合には，`items`メソッドを使用します．"
   ]
  },
  {
   "cell_type": "code",
   "execution_count": 16,
   "metadata": {},
   "outputs": [
    {
     "name": "stdout",
     "output_type": "stream",
     "text": [
      "A person has 2 legs\n",
      "A cat has 4 legs\n",
      "A spider has 8 legs\n"
     ]
    }
   ],
   "source": [
    "d = {'person': 2, 'cat': 4, 'spider': 8}\n",
    "for animal, legs in d.items():\n",
    "    print('A %s has %d legs' % (animal, legs))"
   ]
  },
  {
   "cell_type": "markdown",
   "metadata": {},
   "source": [
    "##### 辞書内包表記 (Dictionary comprehensions)\n",
    "\n",
    "リスト内包表記と同じような形で，辞書を構築できます．"
   ]
  },
  {
   "cell_type": "code",
   "execution_count": 17,
   "metadata": {},
   "outputs": [
    {
     "name": "stdout",
     "output_type": "stream",
     "text": [
      "{0: 0, 2: 4, 4: 16}\n"
     ]
    }
   ],
   "source": [
    "nums = [0, 1, 2, 3, 4]\n",
    "even_num_to_square = {x: x ** 2 for x in nums if x % 2 == 0}\n",
    "print(even_num_to_square)  # Prints \"{0: 0, 2: 4, 4: 16}\""
   ]
  },
  {
   "cell_type": "markdown",
   "metadata": {},
   "source": [
    "#### 集合型 (Sets)\n",
    "\n",
    "順序付けされない，重複を持たない要素の集合．"
   ]
  },
  {
   "cell_type": "code",
   "execution_count": 68,
   "metadata": {},
   "outputs": [
    {
     "name": "stdout",
     "output_type": "stream",
     "text": [
      "True\n",
      "False\n"
     ]
    }
   ],
   "source": [
    "animals = {'cat', 'dog'}\n",
    "print('cat' in animals)   # Check if an element is in a set; prints \"True\"\n",
    "print('fish' in animals)  # prints \"False\""
   ]
  },
  {
   "cell_type": "code",
   "execution_count": 69,
   "metadata": {},
   "outputs": [
    {
     "name": "stdout",
     "output_type": "stream",
     "text": [
      "True\n"
     ]
    }
   ],
   "source": [
    "animals.add('fish')       # Add an element to a set\n",
    "print('fish' in animals)  # Prints \"True\""
   ]
  },
  {
   "cell_type": "code",
   "execution_count": 70,
   "metadata": {},
   "outputs": [
    {
     "name": "stdout",
     "output_type": "stream",
     "text": [
      "3\n",
      "3\n"
     ]
    }
   ],
   "source": [
    "print(len(animals))       # Number of elements in a set; prints \"3\"\n",
    "animals.add('cat')        # Adding an element that is already in the set does nothing\n",
    "print(len(animals))       # Prints \"3\""
   ]
  },
  {
   "cell_type": "code",
   "execution_count": 71,
   "metadata": {},
   "outputs": [
    {
     "name": "stdout",
     "output_type": "stream",
     "text": [
      "2\n"
     ]
    }
   ],
   "source": [
    "animals.remove('cat')     # Remove an element from a set\n",
    "print(len(animals))       # Prints \"2\""
   ]
  },
  {
   "cell_type": "markdown",
   "metadata": {},
   "source": [
    "集合型については[ドキュメント](https://docs.python.jp/3/tutorial/datastructures.html#dictionaries)を参照．"
   ]
  },
  {
   "cell_type": "markdown",
   "metadata": {},
   "source": [
    "##### ループ"
   ]
  },
  {
   "cell_type": "code",
   "execution_count": 72,
   "metadata": {},
   "outputs": [
    {
     "name": "stdout",
     "output_type": "stream",
     "text": [
      "#1: dog\n",
      "#2: fish\n",
      "#3: cat\n"
     ]
    }
   ],
   "source": [
    "animals = {'cat', 'dog', 'fish'}\n",
    "for idx, animal in enumerate(animals):\n",
    "    print('#%d: %s' % (idx + 1, animal))"
   ]
  },
  {
   "cell_type": "markdown",
   "metadata": {},
   "source": [
    "##### 集合内包表記 (Set comprehensions)"
   ]
  },
  {
   "cell_type": "code",
   "execution_count": 73,
   "metadata": {},
   "outputs": [
    {
     "name": "stdout",
     "output_type": "stream",
     "text": [
      "{0, 1, 2, 3, 4, 5}\n"
     ]
    }
   ],
   "source": [
    "from math import sqrt\n",
    "nums = {int(sqrt(x)) for x in range(30)}\n",
    "print(nums) "
   ]
  },
  {
   "cell_type": "markdown",
   "metadata": {},
   "source": [
    "#### タプル (tuples)\n",
    "\n",
    "タプルは（変更不可の）順序付けされた値のリストです．リストと色々な面で似ていますが，リストと異なる点は，辞書型のキーとして使えること，集合型の要素として使えることです．"
   ]
  },
  {
   "cell_type": "code",
   "execution_count": 74,
   "metadata": {},
   "outputs": [],
   "source": [
    "d = {(x, x + 1): x for x in range(10)}  # Create a dictionary with tuple keys"
   ]
  },
  {
   "cell_type": "code",
   "execution_count": 75,
   "metadata": {},
   "outputs": [
    {
     "name": "stdout",
     "output_type": "stream",
     "text": [
      "<class 'tuple'>\n"
     ]
    }
   ],
   "source": [
    "t = (5, 6)        # Create a tuple\n",
    "print(type(t))    # Prints \"<class 'tuple'>\""
   ]
  },
  {
   "cell_type": "code",
   "execution_count": 76,
   "metadata": {},
   "outputs": [
    {
     "name": "stdout",
     "output_type": "stream",
     "text": [
      "5\n"
     ]
    }
   ],
   "source": [
    "print(d[t])       # Prints \"5\""
   ]
  },
  {
   "cell_type": "code",
   "execution_count": 77,
   "metadata": {},
   "outputs": [
    {
     "name": "stdout",
     "output_type": "stream",
     "text": [
      "1\n"
     ]
    }
   ],
   "source": [
    "print(d[(1, 2)])  # Prints \"1\""
   ]
  },
  {
   "cell_type": "markdown",
   "metadata": {},
   "source": [
    "### 関数 (Functions)\n",
    "\n",
    "`def`キーワードを使って関数を定義します．"
   ]
  },
  {
   "cell_type": "code",
   "execution_count": 78,
   "metadata": {},
   "outputs": [],
   "source": [
    "def sign(x):\n",
    "    if x > 0:\n",
    "        return 'positive'\n",
    "    elif x < 0:\n",
    "        return 'negative'\n",
    "    else:\n",
    "        return 'zero'"
   ]
  },
  {
   "cell_type": "markdown",
   "metadata": {},
   "source": [
    "関数の値を求めてみます．"
   ]
  },
  {
   "cell_type": "code",
   "execution_count": 79,
   "metadata": {
    "scrolled": true
   },
   "outputs": [
    {
     "name": "stdout",
     "output_type": "stream",
     "text": [
      "negative\n",
      "zero\n",
      "positive\n"
     ]
    }
   ],
   "source": [
    "for x in [-1, 0, 1]:\n",
    "    print(sign(x))"
   ]
  },
  {
   "cell_type": "markdown",
   "metadata": {},
   "source": [
    "関数定義の際に，オプション引数，キーワード引数を取ることもできます．"
   ]
  },
  {
   "cell_type": "code",
   "execution_count": 80,
   "metadata": {},
   "outputs": [],
   "source": [
    "def hello(name, loud=False):\n",
    "    if loud:\n",
    "        print('HELLO, %s!' % name.upper())\n",
    "    else:\n",
    "        print('Hello, %s' % name)"
   ]
  },
  {
   "cell_type": "markdown",
   "metadata": {},
   "source": [
    "`lout`はオプション引数なので省略できます．省略するとデフォルト値`False`が与えられます．"
   ]
  },
  {
   "cell_type": "code",
   "execution_count": 81,
   "metadata": {},
   "outputs": [
    {
     "name": "stdout",
     "output_type": "stream",
     "text": [
      "Hello, Bob\n"
     ]
    }
   ],
   "source": [
    "hello('Bob') "
   ]
  },
  {
   "cell_type": "code",
   "execution_count": 82,
   "metadata": {},
   "outputs": [
    {
     "name": "stdout",
     "output_type": "stream",
     "text": [
      "HELLO, FRED!\n"
     ]
    }
   ],
   "source": [
    "hello('Fred', loud=True) "
   ]
  },
  {
   "cell_type": "markdown",
   "metadata": {},
   "source": [
    "関数定義については[ドキュメント](https://docs.python.jp/3/tutorial/controlflow.html#defining-functions)を参照．"
   ]
  },
  {
   "cell_type": "markdown",
   "metadata": {},
   "source": [
    "### クラス (Class)\n",
    "\n",
    "関数定義の文法は以下のとおり．"
   ]
  },
  {
   "cell_type": "code",
   "execution_count": 83,
   "metadata": {},
   "outputs": [],
   "source": [
    "class Greeter(object):\n",
    "\n",
    "    # 構築 (Constructor)\n",
    "    def __init__(self, name):\n",
    "        self.name = name  # Create an instance variable\n",
    "\n",
    "    # インスタンスメソッド (Instance method)\n",
    "    def greet(self, loud=False):\n",
    "        if loud:\n",
    "            print('HELLO, %s!' % self.name.upper())\n",
    "        else:\n",
    "            print('Hello, %s' % self.name)"
   ]
  },
  {
   "cell_type": "markdown",
   "metadata": {},
   "source": [
    "クラス定義に`__init__()`メソッドを定義している場合，クラスのインスタンスを生成すると，新しく生成されたクラスインスタンスを`self`に与えて，`__init__()`を呼び出します．したがって，この例では，新たな初期済みのインスタンスを次のようにして得ることができます:"
   ]
  },
  {
   "cell_type": "code",
   "execution_count": 84,
   "metadata": {},
   "outputs": [],
   "source": [
    "g1 = Greeter('Fred')  # Greaterクラスのインスタンスを構築し変数gに代入\n",
    "g2 = Greeter('Taro')"
   ]
  },
  {
   "cell_type": "markdown",
   "metadata": {},
   "source": [
    "インスタンスメソッドの呼び出し，インスタンス変数へのアクセスは以下のように行います．"
   ]
  },
  {
   "cell_type": "code",
   "execution_count": 85,
   "metadata": {
    "scrolled": true
   },
   "outputs": [
    {
     "name": "stdout",
     "output_type": "stream",
     "text": [
      "Hello, Fred\n",
      "Hello, Taro\n"
     ]
    }
   ],
   "source": [
    "g1.greet()\n",
    "g2.greet()"
   ]
  },
  {
   "cell_type": "code",
   "execution_count": 86,
   "metadata": {},
   "outputs": [
    {
     "name": "stdout",
     "output_type": "stream",
     "text": [
      "Taro\n"
     ]
    }
   ],
   "source": [
    "print(g2.name)"
   ]
  },
  {
   "cell_type": "code",
   "execution_count": 87,
   "metadata": {},
   "outputs": [
    {
     "name": "stdout",
     "output_type": "stream",
     "text": [
      "Hello, 太郎\n"
     ]
    }
   ],
   "source": [
    "g2.name = '太郎'\n",
    "g2.greet()"
   ]
  },
  {
   "cell_type": "markdown",
   "metadata": {},
   "source": [
    "C++とは異なり，Pythonのclassにはデータ隠ぺい（カプセル化）の機能はありません．"
   ]
  },
  {
   "cell_type": "markdown",
   "metadata": {},
   "source": [
    "クラス定義については[ドキュメント](https://docs.python.jp/3/tutorial/classes.html#a-first-look-at-classes)を参照．"
   ]
  },
  {
   "cell_type": "markdown",
   "metadata": {},
   "source": [
    "### ＜課題＞Minesweeper \n",
    "\n",
    "別紙を読んで，minesweeperプログラムを作りなさい．"
   ]
  },
  {
   "cell_type": "markdown",
   "metadata": {},
   "source": [
    "## Numpy\n",
    "\n",
    "NumpyはPythonにおける科学技術計算用のコアライブラリです．高性能な多次元配列，多次元配列を扱うためのツールを提供します．"
   ]
  },
  {
   "cell_type": "markdown",
   "metadata": {},
   "source": [
    "### 配列 (Array)\n",
    "\n",
    "Numpy配列は，同じ型の値をグリッド状に並べたものです．非負の整数値のタプルがインデックス（添字）になります．\n",
    "配列の次元（軸）の数は`ndim`取得可能です．各次元（軸）のサイズは`shape`で取得できます．\n",
    "\n",
    "Pythonのリストから配列を生成できます．"
   ]
  },
  {
   "cell_type": "code",
   "execution_count": 88,
   "metadata": {},
   "outputs": [
    {
     "name": "stdout",
     "output_type": "stream",
     "text": [
      "<class 'numpy.ndarray'>\n"
     ]
    }
   ],
   "source": [
    "import numpy as np   # numpy モジュールに別名 np を付ける\n",
    "\n",
    "a = np.array([1, 2, 3])\n",
    "print(type(a))"
   ]
  },
  {
   "cell_type": "code",
   "execution_count": 89,
   "metadata": {},
   "outputs": [
    {
     "name": "stdout",
     "output_type": "stream",
     "text": [
      "(3,)\n"
     ]
    }
   ],
   "source": [
    "print(a.shape)"
   ]
  },
  {
   "cell_type": "code",
   "execution_count": 90,
   "metadata": {},
   "outputs": [
    {
     "name": "stdout",
     "output_type": "stream",
     "text": [
      "1 2 3\n"
     ]
    }
   ],
   "source": [
    "print(a[0], a[1], a[2])"
   ]
  },
  {
   "cell_type": "code",
   "execution_count": 91,
   "metadata": {},
   "outputs": [
    {
     "name": "stdout",
     "output_type": "stream",
     "text": [
      "[5 2 3]\n"
     ]
    }
   ],
   "source": [
    "a[0] = 5\n",
    "print(a)"
   ]
  },
  {
   "cell_type": "code",
   "execution_count": 92,
   "metadata": {},
   "outputs": [
    {
     "name": "stdout",
     "output_type": "stream",
     "text": [
      "2\n",
      "(2, 3)\n",
      "1 2 4\n"
     ]
    }
   ],
   "source": [
    "b = np.array([[1,2,3],[4,5,6]])    # 2x3行列の生成\n",
    "print(b.ndim)                      # 次元数\n",
    "print(b.shape)                     # 各次元のサイズ\n",
    "print(b[0, 0], b[0, 1], b[1, 0])   # 要素の値"
   ]
  },
  {
   "cell_type": "markdown",
   "metadata": {},
   "source": [
    "Numpy は配列を生成する関数を多数提供しています．"
   ]
  },
  {
   "cell_type": "code",
   "execution_count": 93,
   "metadata": {},
   "outputs": [
    {
     "name": "stdout",
     "output_type": "stream",
     "text": [
      "[[0. 0.]\n",
      " [0. 0.]]\n"
     ]
    }
   ],
   "source": [
    "import numpy as np\n",
    "\n",
    "a = np.zeros((2,2))   # 零行列を生成\n",
    "print(a)"
   ]
  },
  {
   "cell_type": "code",
   "execution_count": 94,
   "metadata": {},
   "outputs": [
    {
     "name": "stdout",
     "output_type": "stream",
     "text": [
      "[[1. 1.]]\n"
     ]
    }
   ],
   "source": [
    "b = np.ones((1,2))    # 全要素が1の行列を生成\n",
    "print(b)"
   ]
  },
  {
   "cell_type": "code",
   "execution_count": 95,
   "metadata": {},
   "outputs": [
    {
     "name": "stdout",
     "output_type": "stream",
     "text": [
      "[[7 7]\n",
      " [7 7]]\n"
     ]
    }
   ],
   "source": [
    "c = np.full((2,2), 7)  # 定数行列\n",
    "print(c) "
   ]
  },
  {
   "cell_type": "code",
   "execution_count": 96,
   "metadata": {},
   "outputs": [
    {
     "name": "stdout",
     "output_type": "stream",
     "text": [
      "[[1. 0.]\n",
      " [0. 1.]]\n"
     ]
    }
   ],
   "source": [
    "d = np.eye(2)         # 2x2単位行列を生成\n",
    "print(d) "
   ]
  },
  {
   "cell_type": "code",
   "execution_count": 97,
   "metadata": {},
   "outputs": [
    {
     "name": "stdout",
     "output_type": "stream",
     "text": [
      "[[0.84972233 0.29596935]\n",
      " [0.5162257  0.54509746]]\n"
     ]
    }
   ],
   "source": [
    "e = np.random.random((2,2))  # 一様乱数の行列\n",
    "print(e)"
   ]
  },
  {
   "cell_type": "markdown",
   "metadata": {},
   "source": [
    "### 配列(Array)のインデキシング\n",
    "\n",
    "Numpyが用意しているインデックス方法は以下のとおりです．"
   ]
  },
  {
   "cell_type": "markdown",
   "metadata": {},
   "source": [
    "#### スライシング\n",
    "\n",
    "Pythonのリストと同様に，numpy配列ではスライスを使用できます．"
   ]
  },
  {
   "cell_type": "code",
   "execution_count": 98,
   "metadata": {},
   "outputs": [
    {
     "name": "stdout",
     "output_type": "stream",
     "text": [
      "[[ 1  2  3  4]\n",
      " [ 5  6  7  8]\n",
      " [ 9 10 11 12]]\n"
     ]
    }
   ],
   "source": [
    "import numpy as np\n",
    "\n",
    "# 3x4配列を生成\n",
    "a = np.array([[1,2,3,4], [5,6,7,8], [9,10,11,12]])\n",
    "print(a)"
   ]
  },
  {
   "cell_type": "code",
   "execution_count": 99,
   "metadata": {
    "scrolled": true
   },
   "outputs": [
    {
     "name": "stdout",
     "output_type": "stream",
     "text": [
      "[[2 3]\n",
      " [6 7]]\n"
     ]
    }
   ],
   "source": [
    "b = a[:2, 1:3]\n",
    "print(b)"
   ]
  },
  {
   "cell_type": "markdown",
   "metadata": {},
   "source": [
    "*注意* スライスは元配列のビュー(view) （データ格納領域を共有している）ので，一方を変更するともう一方も変更される．"
   ]
  },
  {
   "cell_type": "code",
   "execution_count": 100,
   "metadata": {
    "scrolled": true
   },
   "outputs": [
    {
     "name": "stdout",
     "output_type": "stream",
     "text": [
      "2\n",
      "77\n"
     ]
    }
   ],
   "source": [
    "print(a[0,1])\n",
    "b[0,0] = 77\n",
    "print(a[0,1]) # 配列bを帰ると配列aの要素の値が変わる"
   ]
  },
  {
   "cell_type": "markdown",
   "metadata": {},
   "source": [
    "スライスと整数値インデキシングを併用することもできる．ただし，配列のランク（次元数）が元配列より小さくなるので注意が必要 (Matlabとはことなる動作)"
   ]
  },
  {
   "cell_type": "code",
   "execution_count": 101,
   "metadata": {},
   "outputs": [
    {
     "name": "stdout",
     "output_type": "stream",
     "text": [
      "[[ 1  2  3  4]\n",
      " [ 5  6  7  8]\n",
      " [ 9 10 11 12]]\n"
     ]
    }
   ],
   "source": [
    "import numpy as np\n",
    "\n",
    "# 2x3行列を生成\n",
    "a = np.array([[1,2,3,4], [5,6,7,8], [9,10,11,12]])\n",
    "print(a)"
   ]
  },
  {
   "cell_type": "code",
   "execution_count": 102,
   "metadata": {},
   "outputs": [
    {
     "name": "stdout",
     "output_type": "stream",
     "text": [
      "[5 6 7 8] (4,)\n"
     ]
    }
   ],
   "source": [
    "row_r1 = a[1, :] \n",
    "print(row_r1, row_r1.shape) # こちらは1次元配列になる"
   ]
  },
  {
   "cell_type": "code",
   "execution_count": 103,
   "metadata": {
    "scrolled": true
   },
   "outputs": [
    {
     "name": "stdout",
     "output_type": "stream",
     "text": [
      "[[5 6 7 8]] (1, 4)\n"
     ]
    }
   ],
   "source": [
    "row_r2 = a[1:2, :]\n",
    "print(row_r2, row_r2.shape) # スライスを使うと2次元のまま"
   ]
  },
  {
   "cell_type": "markdown",
   "metadata": {},
   "source": [
    "列方向の扱いも同様です．"
   ]
  },
  {
   "cell_type": "code",
   "execution_count": 104,
   "metadata": {
    "scrolled": true
   },
   "outputs": [
    {
     "name": "stdout",
     "output_type": "stream",
     "text": [
      "[ 2  6 10] (3,)\n",
      "[[ 2]\n",
      " [ 6]\n",
      " [10]] (3, 1)\n"
     ]
    }
   ],
   "source": [
    "col_r1 = a[:, 1]\n",
    "col_r2 = a[:, 1:2]\n",
    "print(col_r1, col_r1.shape) \n",
    "print(col_r2, col_r2.shape) "
   ]
  },
  {
   "cell_type": "markdown",
   "metadata": {},
   "source": [
    "#### 整数配列によるインデキシング\n",
    "\n",
    "スライスを使用すると元配列と同じ次元数の配列のビューが生成されます．\n",
    "\n",
    "一方，整数配列をインデックスに与えることで，次元数の異なる配列を生成することができます．"
   ]
  },
  {
   "cell_type": "code",
   "execution_count": 105,
   "metadata": {
    "scrolled": true
   },
   "outputs": [
    {
     "name": "stdout",
     "output_type": "stream",
     "text": [
      "[[1 2]\n",
      " [3 4]\n",
      " [5 6]]\n",
      "[1 4 5]\n"
     ]
    }
   ],
   "source": [
    "import numpy as np\n",
    "\n",
    "a = np.array([[1,2], [3, 4], [5, 6]])\n",
    "print(a)\n",
    "print(a[[0, 1, 2], [0, 1, 0]]) "
   ]
  },
  {
   "cell_type": "markdown",
   "metadata": {},
   "source": [
    "`a[[0, 1, 2], [0, 1, 0]]`によって`a[0,0]`, `a[1,1]`, `a[2,0]`を並べた配列が生成されていることが分かります．つまり以下と等価です．"
   ]
  },
  {
   "cell_type": "code",
   "execution_count": 106,
   "metadata": {},
   "outputs": [
    {
     "name": "stdout",
     "output_type": "stream",
     "text": [
      "[1 4 5]\n"
     ]
    }
   ],
   "source": [
    "print(np.array([a[0, 0], a[1, 1], a[2, 0]])) "
   ]
  },
  {
   "cell_type": "markdown",
   "metadata": {},
   "source": [
    "整数配列インデキシングのテクニックを使用すると，配列の要素を選択し，その値を変更することができます．"
   ]
  },
  {
   "cell_type": "code",
   "execution_count": 107,
   "metadata": {},
   "outputs": [
    {
     "name": "stdout",
     "output_type": "stream",
     "text": [
      "[[ 1  2  3]\n",
      " [ 4  5  6]\n",
      " [ 7  8  9]\n",
      " [10 11 12]]\n"
     ]
    }
   ],
   "source": [
    "import numpy as np\n",
    "\n",
    "# 4x3行列を生成\n",
    "a = np.array([[1,2,3], [4,5,6], [7,8,9], [10, 11, 12]])\n",
    "print(a)"
   ]
  },
  {
   "cell_type": "code",
   "execution_count": 108,
   "metadata": {},
   "outputs": [
    {
     "name": "stdout",
     "output_type": "stream",
     "text": [
      "[ 1  6  7 11]\n"
     ]
    }
   ],
   "source": [
    "# 整数配列を生成\n",
    "b = np.array([0, 2, 0, 1])\n",
    "\n",
    "# 各行から整数配列で指定した位置の要素を選択\n",
    "print(a[np.arange(4), b])"
   ]
  },
  {
   "cell_type": "code",
   "execution_count": 109,
   "metadata": {},
   "outputs": [
    {
     "name": "stdout",
     "output_type": "stream",
     "text": [
      "[[11  2  3]\n",
      " [ 4  5 16]\n",
      " [17  8  9]\n",
      " [10 21 12]]\n"
     ]
    }
   ],
   "source": [
    "a[np.arange(4), b] += 10\n",
    "print(a)"
   ]
  },
  {
   "cell_type": "markdown",
   "metadata": {},
   "source": [
    "#### ブール値配列によるインデキシング\n",
    "\n",
    "ブール値配列をインデックスに与えることで配列の任意の要素をピックアップすることができます．特定の条件を満たす行列要素を抽出する際に頻繁に使われます．画像処理でも特定の条件の画素をピックアップするときによく使います．"
   ]
  },
  {
   "cell_type": "code",
   "execution_count": 110,
   "metadata": {},
   "outputs": [
    {
     "name": "stdout",
     "output_type": "stream",
     "text": [
      "[[False False]\n",
      " [ True  True]\n",
      " [ True  True]]\n"
     ]
    }
   ],
   "source": [
    "import numpy as np\n",
    "\n",
    "a = np.array([[1,2], [3, 4], [5, 6]])\n",
    "\n",
    "bool_idx = (a > 2)   # 配列要素の値が2より大きい配列要素を特定する\n",
    "print(bool_idx) \n"
   ]
  },
  {
   "cell_type": "code",
   "execution_count": 111,
   "metadata": {},
   "outputs": [
    {
     "name": "stdout",
     "output_type": "stream",
     "text": [
      "[3 4 5 6]\n"
     ]
    }
   ],
   "source": [
    "print(a[bool_idx]) "
   ]
  },
  {
   "cell_type": "code",
   "execution_count": 112,
   "metadata": {},
   "outputs": [
    {
     "name": "stdout",
     "output_type": "stream",
     "text": [
      "[3 4 5 6]\n"
     ]
    }
   ],
   "source": [
    "print(a[a > 2]) "
   ]
  },
  {
   "cell_type": "markdown",
   "metadata": {},
   "source": [
    "ブール値配列インデキシングについては[ドキュメント](https://docs.scipy.org/doc/numpy/reference/arrays.indexing.html)を参照．"
   ]
  },
  {
   "cell_type": "markdown",
   "metadata": {},
   "source": [
    "### データ型\n",
    "\n",
    "それぞれのNumpy配列は同じデータ型の要素を持ちます．Numpyでは多様なデータ型を提供しています．配列生成時にデータ型を推測して配列を指定しますが，明示的にデータ型を与えることもできます．"
   ]
  },
  {
   "cell_type": "code",
   "execution_count": 113,
   "metadata": {},
   "outputs": [
    {
     "name": "stdout",
     "output_type": "stream",
     "text": [
      "int32\n",
      "float64\n",
      "int64\n"
     ]
    }
   ],
   "source": [
    "import numpy as np\n",
    "\n",
    "x = np.array([1, 2])       # Let numpy choose the datatype\n",
    "print(x.dtype)             # Prints \"int32\"\n",
    "\n",
    "x = np.array([1.0, 2.0])   # Let numpy choose the datatype\n",
    "print(x.dtype)             # Prints \"float64\"\n",
    "\n",
    "x = np.array([1, 2], dtype=np.int64)   # Force a particular datatype\n",
    "print(x.dtype)                         # Prints \"int64\""
   ]
  },
  {
   "cell_type": "markdown",
   "metadata": {},
   "source": [
    "詳細は[ドキュメント](https://docs.scipy.org/doc/numpy/reference/arrays.dtypes.html)を参照."
   ]
  },
  {
   "cell_type": "markdown",
   "metadata": {},
   "source": [
    "### 配列演算\n",
    "\n",
    "Numpyで用意している初等関数に配列を与えると_要素毎に_作用します．オーバーロードされた演算子('+', '-'など)，numpyモジュール中の関数としても呼び出すことができます．"
   ]
  },
  {
   "cell_type": "code",
   "execution_count": 114,
   "metadata": {},
   "outputs": [
    {
     "name": "stdout",
     "output_type": "stream",
     "text": [
      "x= [[1. 2.]\n",
      " [3. 4.]]\n",
      "y= [[5. 6.]\n",
      " [7. 8.]]\n"
     ]
    }
   ],
   "source": [
    "import numpy as np\n",
    "\n",
    "x = np.array([[1,2],[3,4]], dtype=np.float64)\n",
    "y = np.array([[5,6],[7,8]], dtype=np.float64)\n",
    "print(\"x=\", x)\n",
    "print(\"y=\", y)"
   ]
  },
  {
   "cell_type": "code",
   "execution_count": 115,
   "metadata": {},
   "outputs": [
    {
     "name": "stdout",
     "output_type": "stream",
     "text": [
      "[[ 6.  8.]\n",
      " [10. 12.]]\n",
      "[[ 6.  8.]\n",
      " [10. 12.]]\n"
     ]
    }
   ],
   "source": [
    "print(x + y)\n",
    "print(np.add(x, y))"
   ]
  },
  {
   "cell_type": "code",
   "execution_count": 116,
   "metadata": {},
   "outputs": [
    {
     "name": "stdout",
     "output_type": "stream",
     "text": [
      "[[-4. -4.]\n",
      " [-4. -4.]]\n",
      "[[-4. -4.]\n",
      " [-4. -4.]]\n"
     ]
    }
   ],
   "source": [
    "print(x - y)\n",
    "print(np.subtract(x, y))"
   ]
  },
  {
   "cell_type": "code",
   "execution_count": 117,
   "metadata": {},
   "outputs": [
    {
     "name": "stdout",
     "output_type": "stream",
     "text": [
      "[[ 5. 12.]\n",
      " [21. 32.]]\n",
      "[[ 5. 12.]\n",
      " [21. 32.]]\n"
     ]
    }
   ],
   "source": [
    "print(x * y)  # 行列の積ではなく要素毎の積\n",
    "print(np.multiply(x, y))"
   ]
  },
  {
   "cell_type": "code",
   "execution_count": 118,
   "metadata": {},
   "outputs": [
    {
     "name": "stdout",
     "output_type": "stream",
     "text": [
      "[[0.2        0.33333333]\n",
      " [0.42857143 0.5       ]]\n",
      "[[0.2        0.33333333]\n",
      " [0.42857143 0.5       ]]\n"
     ]
    }
   ],
   "source": [
    "print(x / y)\n",
    "print(np.divide(x, y))"
   ]
  },
  {
   "cell_type": "code",
   "execution_count": 119,
   "metadata": {},
   "outputs": [
    {
     "name": "stdout",
     "output_type": "stream",
     "text": [
      "[[1.         1.41421356]\n",
      " [1.73205081 2.        ]]\n"
     ]
    }
   ],
   "source": [
    "print(np.sqrt(x))"
   ]
  },
  {
   "cell_type": "markdown",
   "metadata": {},
   "source": [
    "Matlabとは異なり，演算子`*`は行列積ではなく，要素毎の積になっている．行列積の計算には`dot`を使用する．"
   ]
  },
  {
   "cell_type": "code",
   "execution_count": 120,
   "metadata": {},
   "outputs": [
    {
     "name": "stdout",
     "output_type": "stream",
     "text": [
      "219\n",
      "219\n"
     ]
    }
   ],
   "source": [
    "import numpy as np\n",
    "\n",
    "x = np.array([[1,2],[3,4]])\n",
    "y = np.array([[5,6],[7,8]])\n",
    "\n",
    "v = np.array([9,10])\n",
    "w = np.array([11, 12])\n",
    "\n",
    "# ベクトル v, wの内積を計算\n",
    "print(v.dot(w))\n",
    "print(np.dot(v, w))"
   ]
  },
  {
   "cell_type": "code",
   "execution_count": 121,
   "metadata": {},
   "outputs": [
    {
     "name": "stdout",
     "output_type": "stream",
     "text": [
      "[29 67]\n",
      "[29 67]\n"
     ]
    }
   ],
   "source": [
    "# 行列とベクトルの積\n",
    "print(x.dot(v))\n",
    "print(np.dot(x, v))"
   ]
  },
  {
   "cell_type": "code",
   "execution_count": 122,
   "metadata": {},
   "outputs": [
    {
     "name": "stdout",
     "output_type": "stream",
     "text": [
      "[[19 22]\n",
      " [43 50]]\n",
      "[[19 22]\n",
      " [43 50]]\n"
     ]
    }
   ],
   "source": [
    "# 行列同士の積\n",
    "print(x.dot(y))\n",
    "print(np.dot(x, y))"
   ]
  },
  {
   "cell_type": "markdown",
   "metadata": {},
   "source": [
    "これ以外にも多くの有用な関数が提供されています．よく使う関数に`sum`, `average`があります．"
   ]
  },
  {
   "cell_type": "code",
   "execution_count": 123,
   "metadata": {},
   "outputs": [
    {
     "name": "stdout",
     "output_type": "stream",
     "text": [
      "10\n",
      "[4 6]\n",
      "[3 7]\n"
     ]
    }
   ],
   "source": [
    "import numpy as np\n",
    "\n",
    "x = np.array([[1,2],[3,4]])\n",
    "\n",
    "print(np.sum(x))\n",
    "print(np.sum(x, axis=0))  # 列方向の和\n",
    "print(np.sum(x, axis=1))  # 行方向の和"
   ]
  },
  {
   "cell_type": "code",
   "execution_count": 124,
   "metadata": {},
   "outputs": [
    {
     "name": "stdout",
     "output_type": "stream",
     "text": [
      "2.5\n"
     ]
    }
   ],
   "source": [
    "print(np.average(x))"
   ]
  },
  {
   "cell_type": "markdown",
   "metadata": {},
   "source": [
    "詳細なリストは[こちら](https://docs.scipy.org/doc/numpy/reference/routines.math.html)．"
   ]
  },
  {
   "cell_type": "markdown",
   "metadata": {},
   "source": [
    "数学的な関数の計算以外にも，配列のサイズを変更(reshape)したり配列中のデータを操作することがあります．\n",
    "最もシンプルな例が行列の転置(transpose)の計算です．`T`属性を使うだけで転置行列を求めることができます．"
   ]
  },
  {
   "cell_type": "code",
   "execution_count": 125,
   "metadata": {},
   "outputs": [
    {
     "name": "stdout",
     "output_type": "stream",
     "text": [
      "[[1 2]\n",
      " [3 4]]\n",
      "[[1 3]\n",
      " [2 4]]\n"
     ]
    }
   ],
   "source": [
    "import numpy as np\n",
    "x = np.array([[1,2], [3,4]])\n",
    "print(x)\n",
    "print(x.T) "
   ]
  },
  {
   "cell_type": "markdown",
   "metadata": {},
   "source": [
    "1次元配列の転置は何も行わないことに注意．"
   ]
  },
  {
   "cell_type": "code",
   "execution_count": 126,
   "metadata": {
    "scrolled": false
   },
   "outputs": [
    {
     "name": "stdout",
     "output_type": "stream",
     "text": [
      "[1 2 3]\n",
      "[1 2 3]\n"
     ]
    }
   ],
   "source": [
    "v = np.array([1,2,3])\n",
    "print(v)    # Prints \"[1 2 3]\"\n",
    "print(v.T)  # Prints \"[1 2 3]\""
   ]
  },
  {
   "cell_type": "markdown",
   "metadata": {},
   "source": [
    "配列のサイズを変えたり，データ型を変更する演算もよく使います．"
   ]
  },
  {
   "cell_type": "code",
   "execution_count": 127,
   "metadata": {},
   "outputs": [
    {
     "name": "stdout",
     "output_type": "stream",
     "text": [
      "[[1 2 3]\n",
      " [4 5 6]]\n",
      "[[1 2]\n",
      " [3 4]\n",
      " [5 6]]\n"
     ]
    }
   ],
   "source": [
    "import numpy as np\n",
    "x = np.array([[1,2,3], [4,5,6]])\n",
    "print(x)\n",
    "print(x.reshape((3,2)))"
   ]
  },
  {
   "cell_type": "code",
   "execution_count": 128,
   "metadata": {},
   "outputs": [
    {
     "name": "stdout",
     "output_type": "stream",
     "text": [
      "[[1. 2. 3.]\n",
      " [4. 5. 6.]]\n"
     ]
    }
   ],
   "source": [
    "print(x.astype(float))"
   ]
  },
  {
   "cell_type": "markdown",
   "metadata": {},
   "source": [
    "### ブロードキャスト (Broadcasting)\n",
    "\n",
    "ブロードキャストとよばれるNumpyの機能を使うことで，異なるサイズ(shape)を持つ配列に対する演算が可能になります．\n",
    "\n",
    "行列のそれぞれの行に定数ベクトルを加算するコードの例は以下のようになります．"
   ]
  },
  {
   "cell_type": "code",
   "execution_count": 129,
   "metadata": {},
   "outputs": [
    {
     "name": "stdout",
     "output_type": "stream",
     "text": [
      "[[ 2  2  4]\n",
      " [ 5  5  7]\n",
      " [ 8  8 10]\n",
      " [11 11 13]]\n"
     ]
    }
   ],
   "source": [
    "import numpy as np\n",
    "\n",
    "# 行列xの各行にベクトルvを加算する．結果をyに入れる．\n",
    "x = np.array([[1,2,3], [4,5,6], [7,8,9], [10, 11, 12]])\n",
    "v = np.array([1, 0, 1])\n",
    "y = np.empty_like(x)   # 行列xと同じサイズ，データ型の空行列を作成\n",
    "\n",
    "# ループを使用する場合\n",
    "for i in range(4):\n",
    "    y[i, :] = x[i, :] + v\n",
    "\n",
    "print(y)"
   ]
  },
  {
   "cell_type": "markdown",
   "metadata": {},
   "source": [
    "ループを使っても問題なく動きますが，行列`x`の行数が大きくなると，処理時間がかかることがあります．\n",
    "\n",
    "行列`x`に行ベクトル`v`をすべての行に足す演算は，行列`x`に行列`vv`(ベクトル`v`を縦に並べた行列)を足すことに等価です．このアプローチを使うと以下のように書けます．"
   ]
  },
  {
   "cell_type": "code",
   "execution_count": 130,
   "metadata": {},
   "outputs": [
    {
     "name": "stdout",
     "output_type": "stream",
     "text": [
      "[[1 0 1]\n",
      " [1 0 1]\n",
      " [1 0 1]\n",
      " [1 0 1]]\n"
     ]
    }
   ],
   "source": [
    "vv = np.tile(v, (4, 1))   # ベクトルvを４行並べた行列を作成\n",
    "print(vv)"
   ]
  },
  {
   "cell_type": "code",
   "execution_count": 131,
   "metadata": {},
   "outputs": [
    {
     "name": "stdout",
     "output_type": "stream",
     "text": [
      "[[ 2  2  4]\n",
      " [ 5  5  7]\n",
      " [ 8  8 10]\n",
      " [11 11 13]]\n"
     ]
    }
   ],
   "source": [
    "y = x + vv \n",
    "print(y) "
   ]
  },
  {
   "cell_type": "markdown",
   "metadata": {},
   "source": [
    "結果はループを使った場合と同じになります．\n",
    "\n",
    "Numpyのブロードキャスト(broadcasting)を使うとベクトル`v`のコピーを作ることなく同じ演算を実行できます．"
   ]
  },
  {
   "cell_type": "code",
   "execution_count": 132,
   "metadata": {},
   "outputs": [
    {
     "name": "stdout",
     "output_type": "stream",
     "text": [
      "[[ 2  2  4]\n",
      " [ 5  5  7]\n",
      " [ 8  8 10]\n",
      " [11 11 13]]\n"
     ]
    }
   ],
   "source": [
    "y = x + v     # 行ベクトルの加算が各行にブロードキャストされる\n",
    "print(y)"
   ]
  },
  {
   "cell_type": "markdown",
   "metadata": {},
   "source": [
    "サイズの違う二つの配列`x`と`v`の間で加算`y = x + v`が実行できるのはブロードキャスト機能のおかげです．ベクトル`v`のshapeは(3,)ですが，(4,3)の配列とみなして要素毎に和を計算します．\n",
    "\n",
    "2つの配列間のブロードキャストは以下のルールに従います:\n",
    "\n",
    "1. 配列の次元数(ランク)が同じでなければ，次元数を増やす．\n",
    "2. 二つの配列のある次元について，その次元のサイズが同じか一方のサイズが1のとき，二つの配列の次元は *compatible*であるとよびます．\n",
    "3. すべての次元について*compatible*であれば，二つの配列はブロードキャスト可能です．\n",
    "4. ブロードキャストの結果，二つの配列のshape(サイズ)はそれぞれの次元の最大値を持つように振る舞います．\n",
    "5. すべての次元について，一方の配列のサイズが1で，もう一方のサイズが1以上なら，最初の配列をコピーした配列とみなして演算を行います．\n",
    "\n",
    "もしこの説明が理解できないようなら，この[ドキュメント](https://docs.scipy.org/doc/numpy/user/basics.broadcasting.html)を読んでみてください．\n",
    "\n",
    "ブロードキャストをサポートする関数はuniversal functionsと呼ばれます．universal functionのリストは[ドキュメント](https://docs.scipy.org/doc/numpy/reference/ufuncs.html#available-ufuncs)を参考にしてください．\n",
    "\n",
    "以下はブロードキャスト機能の別の応用例です．"
   ]
  },
  {
   "cell_type": "code",
   "execution_count": 133,
   "metadata": {},
   "outputs": [
    {
     "name": "stdout",
     "output_type": "stream",
     "text": [
      "[[ 4  5]\n",
      " [ 8 10]\n",
      " [12 15]]\n"
     ]
    }
   ],
   "source": [
    "import numpy as np\n",
    "\n",
    "# 二つのベクトル v, w の外積を計算\n",
    "v = np.array([1,2,3])  # v has shape (3,)\n",
    "w = np.array([4,5])    # w has shape (2,)\n",
    "\n",
    "# (1) ベクトルvを列ベクトルに変換してから積を計算\n",
    "vv = np.reshape(v, (3, 1))\n",
    "print(vv * w)"
   ]
  },
  {
   "cell_type": "code",
   "execution_count": 134,
   "metadata": {},
   "outputs": [
    {
     "name": "stdout",
     "output_type": "stream",
     "text": [
      "[[2 4 6]\n",
      " [5 7 9]]\n"
     ]
    }
   ],
   "source": [
    "# (2) 行列xの各行にベクトルvを加算\n",
    "x = np.array([[1,2,3], [4,5,6]])\n",
    "print(x + v)"
   ]
  },
  {
   "cell_type": "code",
   "execution_count": 135,
   "metadata": {},
   "outputs": [
    {
     "name": "stdout",
     "output_type": "stream",
     "text": [
      "[[ 5  6  7]\n",
      " [ 9 10 11]]\n",
      "[[ 5  6  7]\n",
      " [ 9 10 11]]\n"
     ]
    }
   ],
   "source": [
    "# (3) 行列xの各列にベクトルwを加算\n",
    "print((x.T + w).T)\n",
    "\n",
    "# (3)' 別の方法としてはベクトルwを列ベクトルにreshapeする\n",
    "print(x + np.reshape(w, (2, 1)))"
   ]
  },
  {
   "cell_type": "code",
   "execution_count": 136,
   "metadata": {},
   "outputs": [
    {
     "name": "stdout",
     "output_type": "stream",
     "text": [
      "[[ 2  4  6]\n",
      " [ 8 10 12]]\n"
     ]
    }
   ],
   "source": [
    "# (4) 定数を行列にかける\n",
    "print(x * 2)"
   ]
  },
  {
   "cell_type": "code",
   "execution_count": 137,
   "metadata": {},
   "outputs": [
    {
     "data": {
      "text/plain": [
       "array([[2, 4],\n",
       "       [4, 6]])"
      ]
     },
     "execution_count": 137,
     "metadata": {},
     "output_type": "execute_result"
    }
   ],
   "source": [
    "np.array([[1,2],[3,4]])+np.array([1,2])"
   ]
  },
  {
   "cell_type": "markdown",
   "metadata": {},
   "source": [
    "### Numpy ドキュメント\n",
    "\n",
    "ここではNumpyの必須機能のみを紹介した．より詳しく知りたい場合は[Numpy reference](https://docs.scipy.org/doc/numpy/reference/)を参照のこと．"
   ]
  },
  {
   "cell_type": "markdown",
   "metadata": {},
   "source": [
    "## Matplotlib\n",
    "\n",
    "[Matplotlib](https://matplotlib.org/)は，グラフ作成機能を提供するライブラリです．以下は，Matlabと同じようなグラフ作成機能を提供する`matplotlib.pyplot`モジュールの簡単な紹介です．"
   ]
  },
  {
   "cell_type": "markdown",
   "metadata": {},
   "source": [
    "### Plotting"
   ]
  },
  {
   "cell_type": "code",
   "execution_count": 138,
   "metadata": {},
   "outputs": [
    {
     "data": {
      "image/png": "[encoded data removed]",
      "text/plain": [
       "<Figure size 432x288 with 1 Axes>"
      ]
     },
     "metadata": {
      "needs_background": "light"
     },
     "output_type": "display_data"
    }
   ],
   "source": [
    "import numpy as np\n",
    "import matplotlib.pyplot as plt\n",
    "%matplotlib inline\n",
    "\n",
    "# x座標とy座標の配列を用意する\n",
    "x = np.array([0, 1, 2, 3, 4])\n",
    "y = np.array([0, 1, 0, 1, 0])\n",
    "\n",
    "# matplotlibでグラフ描画\n",
    "plt.plot(x, y)\n",
    "plt.show()   # 描画結果を表示するためにshow()を呼び出す必要がある．"
   ]
  },
  {
   "cell_type": "code",
   "execution_count": 139,
   "metadata": {},
   "outputs": [
    {
     "data": {
      "image/png": "[encoded data removed]",
      "text/plain": [
       "<Figure size 432x288 with 1 Axes>"
      ]
     },
     "metadata": {
      "needs_background": "light"
     },
     "output_type": "display_data"
    }
   ],
   "source": [
    "# sin曲線のx, y座標の配列を求める\n",
    "x = np.arange(0, 3 * np.pi, 0.1) # x=[0, 0.1, 0.2, ...., 3*pi]\n",
    "y = np.sin(x)\n",
    "\n",
    "# Plot the points using matplotlib\n",
    "plt.plot(x, y)\n",
    "plt.show()  # You must call plt.show() to make graphics appear."
   ]
  },
  {
   "cell_type": "markdown",
   "metadata": {},
   "source": [
    "少しコードを追加することで，複数グラフの同時表示，タイトル，凡例，軸の説明を追加できます．\n",
    "  * `xlabel`, `ylabel` -- x, y軸のラベルを描画\n",
    "  * `title` -- グラフのタイトル\n",
    "  * `legend` -- 凡例\n",
    "  * `xlim`, `ylim` -- x, y軸の最小値，最大値を設定"
   ]
  },
  {
   "cell_type": "code",
   "execution_count": 140,
   "metadata": {},
   "outputs": [
    {
     "data": {
      "image/png": "[encoded data removed]",
      "text/plain": [
       "<Figure size 432x288 with 1 Axes>"
      ]
     },
     "metadata": {
      "needs_background": "light"
     },
     "output_type": "display_data"
    }
   ],
   "source": [
    "import numpy as np\n",
    "import matplotlib.pyplot as plt\n",
    "\n",
    "# sin, cos曲線のx, y座標の配列を求める\n",
    "x = np.arange(0, 3 * np.pi, 0.1)\n",
    "y_sin = np.sin(x)\n",
    "y_cos = np.cos(x)\n",
    "\n",
    "# matplotlibを使ってグラフ描画\n",
    "plt.plot(x, y_sin, label = 'Sine')\n",
    "plt.plot(x, y_cos, label = 'Cosine')\n",
    "plt.xlabel('x axis label')\n",
    "plt.ylabel('y axis label')\n",
    "plt.title('Sine and Cosine')\n",
    "plt.legend()\n",
    "plt.show()"
   ]
  },
  {
   "cell_type": "markdown",
   "metadata": {},
   "source": [
    "`plot`関数の詳細は[ドキュメント](https://matplotlib.org/api/pyplot_api.html#matplotlib.pyplot.plot)を参照"
   ]
  },
  {
   "cell_type": "markdown",
   "metadata": {},
   "source": [
    "### Subplots\n",
    "\n",
    "`subplot`を用いることで，一つの図に複数のグラフを合成することができます．"
   ]
  },
  {
   "cell_type": "code",
   "execution_count": 141,
   "metadata": {},
   "outputs": [
    {
     "data": {
      "image/png": "[encoded data removed]",
      "text/plain": [
       "<Figure size 432x288 with 2 Axes>"
      ]
     },
     "metadata": {
      "needs_background": "light"
     },
     "output_type": "display_data"
    }
   ],
   "source": [
    "import numpy as np\n",
    "import matplotlib.pyplot as plt\n",
    "\n",
    "# sin, cos曲線のx, y座標の配列を求める\n",
    "x = np.arange(0, 3 * np.pi, 0.1)\n",
    "y_sin = np.sin(x)\n",
    "y_cos = np.cos(x)\n",
    "\n",
    "# 図の領域を，高さ・幅が2, 1の格子に分けて,１つめのsubplot領域を設定\n",
    "plt.subplot(2, 1, 1)\n",
    "\n",
    "# 一つ目のグラフを描画\n",
    "plt.plot(x, y_sin)\n",
    "plt.title('Sine')\n",
    "\n",
    "# ２つ目のsubplot領域を設定\n",
    "plt.subplot(2, 1, 2)\n",
    "plt.plot(x, y_cos)\n",
    "plt.title('Cosine')\n",
    "\n",
    "# 図を表示.\n",
    "plt.show()"
   ]
  },
  {
   "cell_type": "markdown",
   "metadata": {},
   "source": [
    "詳細は[ドキュメント](https://matplotlib.org/api/pyplot_api.html#matplotlib.pyplot.subplot)を参照．"
   ]
  },
  {
   "cell_type": "markdown",
   "metadata": {},
   "source": [
    "## OpenCV\n",
    "\n",
    "OpenCVは画像処理用の高機能なライブラリです．\n",
    "ここでは画像の入出力と簡単な画像変換の機能だけを取り上げます．"
   ]
  },
  {
   "cell_type": "markdown",
   "metadata": {},
   "source": [
    "### 画像の入力と表示"
   ]
  },
  {
   "cell_type": "code",
   "execution_count": 1,
   "metadata": {},
   "outputs": [],
   "source": [
    "import cv2\n",
    "import matplotlib.pyplot as plt\n",
    "%matplotlib inline\n",
    "\n",
    "im = cv2.imread(\"apple.jpg\")"
   ]
  },
  {
   "cell_type": "markdown",
   "metadata": {},
   "source": [
    "読み込んだ画像データ`im`はNumpy配列になっています．"
   ]
  },
  {
   "cell_type": "code",
   "execution_count": 2,
   "metadata": {},
   "outputs": [
    {
     "name": "stdout",
     "output_type": "stream",
     "text": [
      "(199, 300, 3)\n"
     ]
    }
   ],
   "source": [
    "print(im.shape)"
   ]
  },
  {
   "cell_type": "markdown",
   "metadata": {},
   "source": [
    "縦（高さ）が199，横（幅）が300，色成分数がR, G, Bの3なので，`im.shape`は(199, 300, 3)になります．"
   ]
  },
  {
   "cell_type": "markdown",
   "metadata": {},
   "source": [
    "imreadで画像を読み込む際に，ファイル名の後にオプションを付けことができます．\n",
    "- 0を付けると強制的にグレースケール画像として読み込みます．この際，3次元目は省略され2次元配列として読み込まれます．<br>\n",
    "- デフォルトは1で，強制的に3次元配列(B,G,Rの順)のカラー画像として読み込みます．<br>\n",
    "- -1にするとそのまま読み込み，グレーで読み込むかカラーで読み込むかは画像に依ります．"
   ]
  },
  {
   "cell_type": "code",
   "execution_count": 3,
   "metadata": {},
   "outputs": [
    {
     "name": "stdout",
     "output_type": "stream",
     "text": [
      "(199, 300)\n",
      "(199, 300, 3)\n"
     ]
    }
   ],
   "source": [
    "im = cv2.imread(\"apple.jpg\", 0)\n",
    "print(im.shape)\n",
    "\n",
    "im = cv2.imread(\"apple.jpg\", -1)\n",
    "print(im.shape)"
   ]
  },
  {
   "cell_type": "markdown",
   "metadata": {},
   "source": [
    "Opencvの画像表示機能を使って画像を表示します．'ESC'キーを押すとウィンドウを消します．"
   ]
  },
  {
   "cell_type": "code",
   "execution_count": 144,
   "metadata": {},
   "outputs": [],
   "source": [
    "cv2.imshow('win', im)\n",
    "cv2.waitKey(0)           # キー入力待ち\n",
    "cv2.destroyAllWindows()  # ウィンドウを始末"
   ]
  },
  {
   "cell_type": "markdown",
   "metadata": {},
   "source": [
    "`cv2.waitKye(0); cv2.destroyAllWindows()`を忘れるとカーネルの再起動が必要になる場合があるので注意してください．"
   ]
  },
  {
   "cell_type": "markdown",
   "metadata": {},
   "source": [
    "`Matplotlib`の機能を使った画像描画することもできますが，\n",
    "色の並び順が`OpenCV`と`Matplotlib`で異なるので注意が必要です．"
   ]
  },
  {
   "cell_type": "code",
   "execution_count": 145,
   "metadata": {
    "scrolled": false
   },
   "outputs": [
    {
     "data": {
      "text/plain": [
       "<matplotlib.image.AxesImage at 0x19b1e3d4e10>"
      ]
     },
     "execution_count": 145,
     "metadata": {},
     "output_type": "execute_result"
    },
    {
     "data": {
      "image/png": "[encoded data removed]",
      "text/plain": [
       "<Figure size 432x288 with 1 Axes>"
      ]
     },
     "metadata": {
      "needs_background": "light"
     },
     "output_type": "display_data"
    }
   ],
   "source": [
    "im_rgb=cv2.cvtColor(im, cv2.COLOR_BGR2RGB)\n",
    "plt.imshow(im_rgb)"
   ]
  },
  {
   "cell_type": "markdown",
   "metadata": {},
   "source": [
    "グレースケール画像への変換，グレースケール画像の表示は以下のようになります．"
   ]
  },
  {
   "cell_type": "code",
   "execution_count": 146,
   "metadata": {
    "scrolled": true
   },
   "outputs": [
    {
     "data": {
      "text/plain": [
       "<matplotlib.colorbar.Colorbar at 0x19b1f4c31d0>"
      ]
     },
     "execution_count": 146,
     "metadata": {},
     "output_type": "execute_result"
    },
    {
     "data": {
      "image/png": "[encoded data removed]",
      "text/plain": [
       "<Figure size 432x288 with 2 Axes>"
      ]
     },
     "metadata": {
      "needs_background": "light"
     },
     "output_type": "display_data"
    }
   ],
   "source": [
    "im_gray=cv2.cvtColor(im, cv2.COLOR_BGR2GRAY)\n",
    "\n",
    "# 引数なしでimshow()を呼び出すと,画素値に応じてカラーマップで色づけされた\n",
    "# 画像が表示されます．この例では黄色が255, 黒色が0に対応します．\n",
    "plt.imshow(im_gray)\n",
    "plt.colorbar()"
   ]
  },
  {
   "cell_type": "code",
   "execution_count": 147,
   "metadata": {
    "scrolled": true
   },
   "outputs": [
    {
     "data": {
      "text/plain": [
       "<matplotlib.image.AxesImage at 0x19b205152e8>"
      ]
     },
     "execution_count": 147,
     "metadata": {},
     "output_type": "execute_result"
    },
    {
     "data": {
      "image/png": "[encoded data removed]",
      "text/plain": [
       "<Figure size 432x288 with 1 Axes>"
      ]
     },
     "metadata": {
      "needs_background": "light"
     },
     "output_type": "display_data"
    }
   ],
   "source": [
    "# グレースケールで表示する場合はcmapに'gray'を指定します\n",
    "plt.imshow(im_gray, cmap='gray')"
   ]
  },
  {
   "cell_type": "markdown",
   "metadata": {},
   "source": [
    "### 画像変換\n",
    "\n",
    "#### 濃淡変換\n",
    "Numpy の多次元配列演算，ブロードキャストを使用して明るさや色を変化させることができます．<br>\n",
    "※imshowをする際，uint8の画像は[0,255]の範囲で，floatの画像は[0,1]の範囲として処理されます．floatの画像を表示する際に範囲外の値は勝手に[0,1]の範囲にclipされるので注意．"
   ]
  },
  {
   "cell_type": "code",
   "execution_count": 148,
   "metadata": {
    "scrolled": true
   },
   "outputs": [
    {
     "data": {
      "image/png": "[encoded data removed]",
      "text/plain": [
       "<Figure size 432x288 with 2 Axes>"
      ]
     },
     "metadata": {
      "needs_background": "light"
     },
     "output_type": "display_data"
    }
   ],
   "source": [
    "import numpy as np\n",
    "import cv2\n",
    "import matplotlib.pyplot as plt\n",
    "\n",
    "img = cv2.imread('apple.jpg')\n",
    "img = cv2.cvtColor(img, cv2.COLOR_BGR2RGB)\n",
    "img_tinted = img * [1, 0.95, 0.9]\n",
    "\n",
    "# 元画像を表示\n",
    "plt.subplot(1, 2, 1)\n",
    "plt.imshow(img)\n",
    "\n",
    "# 色を一部変更した画像を表示\n",
    "plt.subplot(1, 2, 2)\n",
    "# 明示的にuint8にデータ型を変換しないとエラーになる\n",
    "plt.imshow(np.uint8(img_tinted))\n",
    "plt.show()"
   ]
  },
  {
   "cell_type": "markdown",
   "metadata": {},
   "source": [
    "#### リサイズ\n",
    "\n",
    "`cv2.resize()`関数を使って画像を拡大・縮小できます．"
   ]
  },
  {
   "cell_type": "code",
   "execution_count": 149,
   "metadata": {},
   "outputs": [
    {
     "data": {
      "image/png": "[encoded data removed]",
      "text/plain": [
       "<Figure size 432x288 with 2 Axes>"
      ]
     },
     "metadata": {
      "needs_background": "light"
     },
     "output_type": "display_data"
    }
   ],
   "source": [
    "import numpy as np\n",
    "import cv2\n",
    "import matplotlib.pyplot as plt\n",
    "\n",
    "img = cv2.imread('apple.jpg')\n",
    "img = cv2.cvtColor(img, cv2.COLOR_BGR2RGB)\n",
    "img_resized = cv2.resize(img, (50, 50))     # 50x50ピクセルに縮小\n",
    "\n",
    "# 元画像を表示\n",
    "plt.subplot(1, 2, 1)\n",
    "plt.imshow(img)\n",
    "\n",
    "# 色を一部変更した画像を表示\n",
    "plt.subplot(1, 2, 2)\n",
    "# 明示的にuint8にデータ型を変換しないとエラーになる\n",
    "plt.imshow(np.uint8(img_resized))\n",
    "plt.show()"
   ]
  },
  {
   "cell_type": "markdown",
   "metadata": {},
   "source": [
    "## ＜練習問題＞\n",
    "\n",
    "1. 'circle.bmp'を*グレースケール画像として*読み込み，画面に表示しなさい(2行程度)．\n",
    "出力例:![circle](./img/ex53_1_circle.jpg)\n",
    "2. 'lena.jpg'を*カラー画像として*読み込み，画面に表示しなさい(3行程度)．\n",
    "出力例:![lena](./img/ex53_2_lena.jpg)\n",
    "3. 1, 2で生成した画像A, Bを半透明で合成した画像を作成して表示しなさい(4,5行程度)．ただし，\n",
    " - 合成する前にA(円の画像)をBと同じサイズに拡大すること．\n",
    " - `for`文は使わないこと．ヒント：ブロードキャストできるように，配列のサイズ(shape)を一致させる必要がある．\n",
    " - 配列の要素の方が`uint8`になっていることに注意！(255+1=0になる)\n",
    "出力例:![composition](./img/ex53_3_composition.jpg)\n",
    "4. 1で生成した画像をマスクとして，2の画像のマスク部分を切り出した画像を作成しなさい(3行程度)．\n",
    " - `for`文は使わないこと．ヒント：'ブール値配列によるインデキシング'を使用するとよい．\n",
    "出力例:![cliping](./img/ex53_4_crop.jpg)\n",
    "5. 2x2のsubplot領域に分割し，1～4で生成した画像を一つのfigureとして出力するスクリプトを書きなさい．ただし，各画像に説明を付けて，軸のメモリは非表示としてください(4行x3=12行程度)．\n",
    "出力例:![subplot](./img/ex53_5_subplot.jpg)"
   ]
  },
  {
   "cell_type": "code",
   "execution_count": 150,
   "metadata": {
    "scrolled": false
   },
   "outputs": [
    {
     "data": {
      "image/png": "[encoded data removed]",
      "text/plain": [
       "<Figure size 432x288 with 1 Axes>"
      ]
     },
     "metadata": {
      "needs_background": "light"
     },
     "output_type": "display_data"
    },
    {
     "data": {
      "image/png": "[encoded data removed]",
      "text/plain": [
       "<Figure size 432x288 with 1 Axes>"
      ]
     },
     "metadata": {
      "needs_background": "light"
     },
     "output_type": "display_data"
    }
   ],
   "source": [
    "import cv2\n",
    "import numpy as np\n",
    "from matplotlib.pyplot import *\n",
    "%matplotlib inline\n",
    "\n",
    "im_gray = cv2.imread('circle.bmp', 0)\n",
    "#im_gray = cv2.cvtColor(im, cv2.COLOR_BGR2GRAY)\n",
    "imshow(im_gray, cmap=\"gray\")\n",
    "show()\n",
    "\n",
    "im2 = cv2.imread('lena.jpg')\n",
    "im2 = cv2.cvtColor(im2, cv2.COLOR_BGR2RGB)\n",
    "imshow(im2)\n",
    "show()\n"
   ]
  },
  {
   "cell_type": "code",
   "execution_count": 151,
   "metadata": {
    "scrolled": false
   },
   "outputs": [
    {
     "data": {
      "text/plain": [
       "<matplotlib.image.AxesImage at 0x19b1e26ff28>"
      ]
     },
     "execution_count": 151,
     "metadata": {},
     "output_type": "execute_result"
    },
    {
     "data": {
      "image/png": "[encoded data removed]",
      "text/plain": [
       "<Figure size 432x288 with 1 Axes>"
      ]
     },
     "metadata": {
      "needs_background": "light"
     },
     "output_type": "display_data"
    }
   ],
   "source": [
    "h, w = im2.shape[:2]\n",
    "im_resized = cv2.resize(im_gray, (w, h))\n",
    "imshow(im_resized)\n",
    "im3 = im_resized         # <--ここに処理を記述（1行）\n",
    "imshow(im3)"
   ]
  },
  {
   "cell_type": "code",
   "execution_count": null,
   "metadata": {},
   "outputs": [],
   "source": []
  }
 ],
 "metadata": {
  "kernelspec": {
   "display_name": "Python 3",
   "language": "python",
   "name": "python3"
  },
  "language_info": {
   "codemirror_mode": {
    "name": "ipython",
    "version": 3
   },
   "file_extension": ".py",
   "mimetype": "text/x-python",
   "name": "python",
   "nbconvert_exporter": "python",
   "pygments_lexer": "ipython3",
   "version": "3.7.3"
  },
  "toc": {
   "base_numbering": 1,
   "nav_menu": {},
   "number_sections": true,
   "sideBar": true,
   "skip_h1_title": true,
   "title_cell": "Table of Contents",
   "title_sidebar": "Contents",
   "toc_cell": true,
   "toc_position": {
    "height": "362px",
    "left": "740px",
    "top": "110.8px",
    "width": "248px"
   },
   "toc_section_display": true,
   "toc_window_display": true
  }
 },
 "nbformat": 4,
 "nbformat_minor": 2
}
