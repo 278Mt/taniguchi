{
 "cells": [
  {
   "cell_type": "code",
   "execution_count": 5,
   "metadata": {},
   "outputs": [],
   "source": [
    "#!/usr/bin/env python3\n",
    "# -*- coding: utf-8 -*-\n",
    "\"\"\"\n",
    "Created on Tue Oct  8 12:11:15 2019\n",
    "\n",
    "ブレインアナリスト協会のデータを解析する\n",
    "@author: 278mt\n",
    "\"\"\"\n",
    "import sys\n",
    "from os.path import abspath\n",
    "dirname = abspath('..')\n",
    "del abspath\n",
    "sys.path.append(dirname)\n",
    "import Minesweeper\n",
    "from PyQt5.QtWidgets import QApplication, QWidget\n",
    "\n"
   ]
  },
  {
   "cell_type": "code",
   "execution_count": null,
   "metadata": {},
   "outputs": [],
   "source": []
  }
 ],
 "metadata": {
  "kernelspec": {
   "display_name": "Python 3",
   "language": "python",
   "name": "python3"
  },
  "language_info": {
   "codemirror_mode": {
    "name": "ipython",
    "version": 3
   },
   "file_extension": ".py",
   "mimetype": "text/x-python",
   "name": "python",
   "nbconvert_exporter": "python",
   "pygments_lexer": "ipython3",
   "version": "3.7.3"
  }
 },
 "nbformat": 4,
 "nbformat_minor": 2
}
