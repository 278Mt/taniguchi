{
 "cells": [
  {
   "cell_type": "code",
   "execution_count": 2,
   "metadata": {},
   "outputs": [
    {
     "name": "stdout",
     "output_type": "stream",
     "text": [
      "RUNNING THE PROGRAMME\n"
     ]
    }
   ],
   "source": [
    "#!/usr/bin/env python3\n",
    "# -*- coding: utf-8 -*-\n",
    "\"\"\"\n",
    "Created on Tue Oct  8 12:11:15 2019\n",
    "\n",
    "ブレインアナリスト協会のデータを解析する\n",
    "@author: 278mt\n",
    "\"\"\"\n",
    "import sys\n",
    "from os.path import abspath\n",
    "dirname = abspath('../03_1003_Minesweeper')\n",
    "del abspath\n",
    "sys.path.append(dirname)\n",
    "import Minesweeper\n",
    "from PyQt5.QtWidgets import *\n",
    "import datetime\n",
    "\n",
    "class MyWindow(QMainWindow):\n",
    "    \n",
    "    def __init__(self):\n",
    "        \"\"\" インスタンスが生成されたときに呼び出されるメソッド \"\"\"\n",
    "        print('RUNNING THE PROGRAMME')\n",
    "        super(MyWindow, self).__init__()\n",
    "        self.initUI()\n",
    "    \n",
    "    def initUI(self):\n",
    "        \"\"\" UIの初期化 \"\"\"\n",
    "        self.resize(250, 150)           # 250x150ピクセルにリサイズ\n",
    "        self.setWindowTitle('MyWindow') # タイトルを設定\n",
    "        \n",
    "        self.time_draw()                # 現在時刻をステータスバーに表示\n",
    "        \n",
    "        self.show()\n",
    "\n",
    "    def time_draw(self):\n",
    "        \"\"\" 現在時刻をステータスバーに表示 \"\"\"\n",
    "        d = datetime.datetime.today()\n",
    "        daystr=d.strftime('%Y-%m-%d %H:%M:%S')\n",
    "        self.statusBar().showMessage(daystr)   # ステータスバーを取得しsendMessage()メソッドを呼び出す\n",
    "\n",
    "\n",
    "        \n",
    "def main():\n",
    "    app = QApplication(sys.argv)\n",
    "    w = MyWindow()\n",
    "    app.exec_()\n",
    "\n",
    "if __name__ == '__main__':\n",
    "    main()"
   ]
  },
  {
   "cell_type": "code",
   "execution_count": null,
   "metadata": {},
   "outputs": [],
   "source": []
  },
  {
   "cell_type": "code",
   "execution_count": null,
   "metadata": {},
   "outputs": [],
   "source": []
  }
 ],
 "metadata": {
  "kernelspec": {
   "display_name": "Python 3",
   "language": "python",
   "name": "python3"
  },
  "language_info": {
   "codemirror_mode": {
    "name": "ipython",
    "version": 3
   },
   "file_extension": ".py",
   "mimetype": "text/x-python",
   "name": "python",
   "nbconvert_exporter": "python",
   "pygments_lexer": "ipython3",
   "version": "3.7.3"
  }
 },
 "nbformat": 4,
 "nbformat_minor": 2
}
